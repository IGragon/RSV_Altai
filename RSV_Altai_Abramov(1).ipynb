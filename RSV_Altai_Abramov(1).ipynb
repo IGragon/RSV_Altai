{
  "nbformat": 4,
  "nbformat_minor": 0,
  "metadata": {
    "colab": {
      "provenance": [],
      "collapsed_sections": []
    },
    "kernelspec": {
      "name": "python3",
      "display_name": "Python 3"
    },
    "language_info": {
      "name": "python"
    },
    "accelerator": "GPU",
    "gpuClass": "standard"
  },
  "cells": [
    {
      "cell_type": "markdown",
      "source": [
        "## Загрузим нужные библиотеки"
      ],
      "metadata": {
        "id": "qb_ajqWXuguV"
      }
    },
    {
      "cell_type": "code",
      "source": [
        "!pip install catboost\n",
        "!pip install scikit-optimize"
      ],
      "metadata": {
        "colab": {
          "base_uri": "https://localhost:8080/"
        },
        "id": "UBD-cOfUQZcG",
        "outputId": "1b286ccd-b8a0-489e-8525-3341274d6f3a"
      },
      "execution_count": 3,
      "outputs": [
        {
          "output_type": "stream",
          "name": "stdout",
          "text": [
            "Looking in indexes: https://pypi.org/simple, https://us-python.pkg.dev/colab-wheels/public/simple/\n",
            "Requirement already satisfied: catboost in /usr/local/lib/python3.7/dist-packages (1.0.6)\n",
            "Requirement already satisfied: matplotlib in /usr/local/lib/python3.7/dist-packages (from catboost) (3.2.2)\n",
            "Requirement already satisfied: scipy in /usr/local/lib/python3.7/dist-packages (from catboost) (1.7.3)\n",
            "Requirement already satisfied: pandas>=0.24.0 in /usr/local/lib/python3.7/dist-packages (from catboost) (1.3.5)\n",
            "Requirement already satisfied: graphviz in /usr/local/lib/python3.7/dist-packages (from catboost) (0.10.1)\n",
            "Requirement already satisfied: numpy>=1.16.0 in /usr/local/lib/python3.7/dist-packages (from catboost) (1.21.6)\n",
            "Requirement already satisfied: plotly in /usr/local/lib/python3.7/dist-packages (from catboost) (5.5.0)\n",
            "Requirement already satisfied: six in /usr/local/lib/python3.7/dist-packages (from catboost) (1.15.0)\n",
            "Requirement already satisfied: pytz>=2017.3 in /usr/local/lib/python3.7/dist-packages (from pandas>=0.24.0->catboost) (2022.2.1)\n",
            "Requirement already satisfied: python-dateutil>=2.7.3 in /usr/local/lib/python3.7/dist-packages (from pandas>=0.24.0->catboost) (2.8.2)\n",
            "Requirement already satisfied: cycler>=0.10 in /usr/local/lib/python3.7/dist-packages (from matplotlib->catboost) (0.11.0)\n",
            "Requirement already satisfied: pyparsing!=2.0.4,!=2.1.2,!=2.1.6,>=2.0.1 in /usr/local/lib/python3.7/dist-packages (from matplotlib->catboost) (3.0.9)\n",
            "Requirement already satisfied: kiwisolver>=1.0.1 in /usr/local/lib/python3.7/dist-packages (from matplotlib->catboost) (1.4.4)\n",
            "Requirement already satisfied: typing-extensions in /usr/local/lib/python3.7/dist-packages (from kiwisolver>=1.0.1->matplotlib->catboost) (4.1.1)\n",
            "Requirement already satisfied: tenacity>=6.2.0 in /usr/local/lib/python3.7/dist-packages (from plotly->catboost) (8.0.1)\n",
            "Looking in indexes: https://pypi.org/simple, https://us-python.pkg.dev/colab-wheels/public/simple/\n",
            "Requirement already satisfied: scikit-optimize in /usr/local/lib/python3.7/dist-packages (0.9.0)\n",
            "Requirement already satisfied: numpy>=1.13.3 in /usr/local/lib/python3.7/dist-packages (from scikit-optimize) (1.21.6)\n",
            "Requirement already satisfied: joblib>=0.11 in /usr/local/lib/python3.7/dist-packages (from scikit-optimize) (1.1.0)\n",
            "Requirement already satisfied: scipy>=0.19.1 in /usr/local/lib/python3.7/dist-packages (from scikit-optimize) (1.7.3)\n",
            "Requirement already satisfied: pyaml>=16.9 in /usr/local/lib/python3.7/dist-packages (from scikit-optimize) (21.10.1)\n",
            "Requirement already satisfied: scikit-learn>=0.20.0 in /usr/local/lib/python3.7/dist-packages (from scikit-optimize) (1.0.2)\n",
            "Requirement already satisfied: PyYAML in /usr/local/lib/python3.7/dist-packages (from pyaml>=16.9->scikit-optimize) (6.0)\n",
            "Requirement already satisfied: threadpoolctl>=2.0.0 in /usr/local/lib/python3.7/dist-packages (from scikit-learn>=0.20.0->scikit-optimize) (3.1.0)\n"
          ]
        }
      ]
    },
    {
      "cell_type": "code",
      "execution_count": 4,
      "metadata": {
        "id": "MTgpe_1quUDs"
      },
      "outputs": [],
      "source": [
        "import pandas as pd\n",
        "import seaborn as sns\n",
        "import matplotlib.pyplot as plt\n",
        "from sklearn.model_selection import train_test_split\n",
        "import numpy as np\n",
        "from sklearn.metrics import f1_score\n",
        "\n",
        "from catboost import CatBoostClassifier, Pool\n",
        "from sklearn.model_selection import GridSearchCV, RepeatedStratifiedKFold\n",
        "from sklearn.metrics import make_scorer, f1_score\n",
        "\n",
        "from sklearn.experimental import enable_halving_search_cv \n",
        "from sklearn.model_selection import HalvingGridSearchCV\n",
        "\n",
        "%matplotlib inline"
      ]
    },
    {
      "cell_type": "code",
      "source": [
        "settlements = pd.read_csv(\"/content/settlements.csv\")"
      ],
      "metadata": {
        "id": "2IWyi5XrovmE"
      },
      "execution_count": 5,
      "outputs": []
    },
    {
      "cell_type": "code",
      "source": [
        "settlements.shape"
      ],
      "metadata": {
        "colab": {
          "base_uri": "https://localhost:8080/"
        },
        "id": "IDSvAsX5pre8",
        "outputId": "06f5f002-216e-4341-dd23-6f24cc263608"
      },
      "execution_count": 6,
      "outputs": [
        {
          "output_type": "execute_result",
          "data": {
            "text/plain": [
              "(155921, 14)"
            ]
          },
          "metadata": {},
          "execution_count": 6
        }
      ]
    },
    {
      "cell_type": "code",
      "source": [
        "for col in settlements.columns:\n",
        "    if settlements[col].dtype == 'O':\n",
        "        settlements[col] = settlements[col].apply(str.lower)\n",
        "settlements = settlements.sort_values('population', ascending=False)\n",
        "settlements.reset_index(inplace=True)\n",
        "settlements = settlements.iloc[:20000]"
      ],
      "metadata": {
        "id": "klMfqSAo1QtP"
      },
      "execution_count": 7,
      "outputs": []
    },
    {
      "cell_type": "code",
      "source": [
        "settlements.head(5)"
      ],
      "metadata": {
        "colab": {
          "base_uri": "https://localhost:8080/",
          "height": 339
        },
        "id": "h7kJLCwNpVnr",
        "outputId": "cd71f425-f5bc-4f27-8f7f-25c4cac41b4f"
      },
      "execution_count": 8,
      "outputs": [
        {
          "output_type": "execute_result",
          "data": {
            "text/plain": [
              "    index      id                 region  \\\n",
              "0  155604  155604                 москва   \n",
              "1   38743   38743  новосибирская область   \n",
              "2   35772   35772   свердловская область   \n",
              "3  148112  148112                 москва   \n",
              "4   91315   91315                 москва   \n",
              "\n",
              "                                     municipality    settlement type  \\\n",
              "0                                           южный        москва    г   \n",
              "1                                     новосибирск   новосибирск    г   \n",
              "2  муниципальное образование «город екатеринбург»  екатеринбург    г   \n",
              "3                                       восточный        москва    г   \n",
              "4                                    юго-западный        москва    г   \n",
              "\n",
              "   population  children latitude_dms longitude_dms  latitude_dd  longitude_dd  \\\n",
              "0     1776789    276443     55.45.14     037.37.13    55.753889     37.620278   \n",
              "1     1618039    311756     55.01.42     082.55.24    55.028333     82.923333   \n",
              "2     1515832    297019     56.50.19     060.36.20    56.838611     60.605556   \n",
              "3     1507198    229720     55.45.14     037.37.13    55.753889     37.620278   \n",
              "4     1427284    234537     55.45.14     037.37.13    55.753889     37.620278   \n",
              "\n",
              "          oktmo  dadata  rosstat  \n",
              "0  4.537800e+07       1        0  \n",
              "1  5.070100e+10       0        1  \n",
              "2  6.570100e+10       0        1  \n",
              "3  4.530400e+07       1        0  \n",
              "4  4.500000e+07       1        0  "
            ],
            "text/html": [
              "\n",
              "  <div id=\"df-33f5aff6-cf8c-4ecf-9412-0e743dc8de0e\">\n",
              "    <div class=\"colab-df-container\">\n",
              "      <div>\n",
              "<style scoped>\n",
              "    .dataframe tbody tr th:only-of-type {\n",
              "        vertical-align: middle;\n",
              "    }\n",
              "\n",
              "    .dataframe tbody tr th {\n",
              "        vertical-align: top;\n",
              "    }\n",
              "\n",
              "    .dataframe thead th {\n",
              "        text-align: right;\n",
              "    }\n",
              "</style>\n",
              "<table border=\"1\" class=\"dataframe\">\n",
              "  <thead>\n",
              "    <tr style=\"text-align: right;\">\n",
              "      <th></th>\n",
              "      <th>index</th>\n",
              "      <th>id</th>\n",
              "      <th>region</th>\n",
              "      <th>municipality</th>\n",
              "      <th>settlement</th>\n",
              "      <th>type</th>\n",
              "      <th>population</th>\n",
              "      <th>children</th>\n",
              "      <th>latitude_dms</th>\n",
              "      <th>longitude_dms</th>\n",
              "      <th>latitude_dd</th>\n",
              "      <th>longitude_dd</th>\n",
              "      <th>oktmo</th>\n",
              "      <th>dadata</th>\n",
              "      <th>rosstat</th>\n",
              "    </tr>\n",
              "  </thead>\n",
              "  <tbody>\n",
              "    <tr>\n",
              "      <th>0</th>\n",
              "      <td>155604</td>\n",
              "      <td>155604</td>\n",
              "      <td>москва</td>\n",
              "      <td>южный</td>\n",
              "      <td>москва</td>\n",
              "      <td>г</td>\n",
              "      <td>1776789</td>\n",
              "      <td>276443</td>\n",
              "      <td>55.45.14</td>\n",
              "      <td>037.37.13</td>\n",
              "      <td>55.753889</td>\n",
              "      <td>37.620278</td>\n",
              "      <td>4.537800e+07</td>\n",
              "      <td>1</td>\n",
              "      <td>0</td>\n",
              "    </tr>\n",
              "    <tr>\n",
              "      <th>1</th>\n",
              "      <td>38743</td>\n",
              "      <td>38743</td>\n",
              "      <td>новосибирская область</td>\n",
              "      <td>новосибирск</td>\n",
              "      <td>новосибирск</td>\n",
              "      <td>г</td>\n",
              "      <td>1618039</td>\n",
              "      <td>311756</td>\n",
              "      <td>55.01.42</td>\n",
              "      <td>082.55.24</td>\n",
              "      <td>55.028333</td>\n",
              "      <td>82.923333</td>\n",
              "      <td>5.070100e+10</td>\n",
              "      <td>0</td>\n",
              "      <td>1</td>\n",
              "    </tr>\n",
              "    <tr>\n",
              "      <th>2</th>\n",
              "      <td>35772</td>\n",
              "      <td>35772</td>\n",
              "      <td>свердловская область</td>\n",
              "      <td>муниципальное образование «город екатеринбург»</td>\n",
              "      <td>екатеринбург</td>\n",
              "      <td>г</td>\n",
              "      <td>1515832</td>\n",
              "      <td>297019</td>\n",
              "      <td>56.50.19</td>\n",
              "      <td>060.36.20</td>\n",
              "      <td>56.838611</td>\n",
              "      <td>60.605556</td>\n",
              "      <td>6.570100e+10</td>\n",
              "      <td>0</td>\n",
              "      <td>1</td>\n",
              "    </tr>\n",
              "    <tr>\n",
              "      <th>3</th>\n",
              "      <td>148112</td>\n",
              "      <td>148112</td>\n",
              "      <td>москва</td>\n",
              "      <td>восточный</td>\n",
              "      <td>москва</td>\n",
              "      <td>г</td>\n",
              "      <td>1507198</td>\n",
              "      <td>229720</td>\n",
              "      <td>55.45.14</td>\n",
              "      <td>037.37.13</td>\n",
              "      <td>55.753889</td>\n",
              "      <td>37.620278</td>\n",
              "      <td>4.530400e+07</td>\n",
              "      <td>1</td>\n",
              "      <td>0</td>\n",
              "    </tr>\n",
              "    <tr>\n",
              "      <th>4</th>\n",
              "      <td>91315</td>\n",
              "      <td>91315</td>\n",
              "      <td>москва</td>\n",
              "      <td>юго-западный</td>\n",
              "      <td>москва</td>\n",
              "      <td>г</td>\n",
              "      <td>1427284</td>\n",
              "      <td>234537</td>\n",
              "      <td>55.45.14</td>\n",
              "      <td>037.37.13</td>\n",
              "      <td>55.753889</td>\n",
              "      <td>37.620278</td>\n",
              "      <td>4.500000e+07</td>\n",
              "      <td>1</td>\n",
              "      <td>0</td>\n",
              "    </tr>\n",
              "  </tbody>\n",
              "</table>\n",
              "</div>\n",
              "      <button class=\"colab-df-convert\" onclick=\"convertToInteractive('df-33f5aff6-cf8c-4ecf-9412-0e743dc8de0e')\"\n",
              "              title=\"Convert this dataframe to an interactive table.\"\n",
              "              style=\"display:none;\">\n",
              "        \n",
              "  <svg xmlns=\"http://www.w3.org/2000/svg\" height=\"24px\"viewBox=\"0 0 24 24\"\n",
              "       width=\"24px\">\n",
              "    <path d=\"M0 0h24v24H0V0z\" fill=\"none\"/>\n",
              "    <path d=\"M18.56 5.44l.94 2.06.94-2.06 2.06-.94-2.06-.94-.94-2.06-.94 2.06-2.06.94zm-11 1L8.5 8.5l.94-2.06 2.06-.94-2.06-.94L8.5 2.5l-.94 2.06-2.06.94zm10 10l.94 2.06.94-2.06 2.06-.94-2.06-.94-.94-2.06-.94 2.06-2.06.94z\"/><path d=\"M17.41 7.96l-1.37-1.37c-.4-.4-.92-.59-1.43-.59-.52 0-1.04.2-1.43.59L10.3 9.45l-7.72 7.72c-.78.78-.78 2.05 0 2.83L4 21.41c.39.39.9.59 1.41.59.51 0 1.02-.2 1.41-.59l7.78-7.78 2.81-2.81c.8-.78.8-2.07 0-2.86zM5.41 20L4 18.59l7.72-7.72 1.47 1.35L5.41 20z\"/>\n",
              "  </svg>\n",
              "      </button>\n",
              "      \n",
              "  <style>\n",
              "    .colab-df-container {\n",
              "      display:flex;\n",
              "      flex-wrap:wrap;\n",
              "      gap: 12px;\n",
              "    }\n",
              "\n",
              "    .colab-df-convert {\n",
              "      background-color: #E8F0FE;\n",
              "      border: none;\n",
              "      border-radius: 50%;\n",
              "      cursor: pointer;\n",
              "      display: none;\n",
              "      fill: #1967D2;\n",
              "      height: 32px;\n",
              "      padding: 0 0 0 0;\n",
              "      width: 32px;\n",
              "    }\n",
              "\n",
              "    .colab-df-convert:hover {\n",
              "      background-color: #E2EBFA;\n",
              "      box-shadow: 0px 1px 2px rgba(60, 64, 67, 0.3), 0px 1px 3px 1px rgba(60, 64, 67, 0.15);\n",
              "      fill: #174EA6;\n",
              "    }\n",
              "\n",
              "    [theme=dark] .colab-df-convert {\n",
              "      background-color: #3B4455;\n",
              "      fill: #D2E3FC;\n",
              "    }\n",
              "\n",
              "    [theme=dark] .colab-df-convert:hover {\n",
              "      background-color: #434B5C;\n",
              "      box-shadow: 0px 1px 3px 1px rgba(0, 0, 0, 0.15);\n",
              "      filter: drop-shadow(0px 1px 2px rgba(0, 0, 0, 0.3));\n",
              "      fill: #FFFFFF;\n",
              "    }\n",
              "  </style>\n",
              "\n",
              "      <script>\n",
              "        const buttonEl =\n",
              "          document.querySelector('#df-33f5aff6-cf8c-4ecf-9412-0e743dc8de0e button.colab-df-convert');\n",
              "        buttonEl.style.display =\n",
              "          google.colab.kernel.accessAllowed ? 'block' : 'none';\n",
              "\n",
              "        async function convertToInteractive(key) {\n",
              "          const element = document.querySelector('#df-33f5aff6-cf8c-4ecf-9412-0e743dc8de0e');\n",
              "          const dataTable =\n",
              "            await google.colab.kernel.invokeFunction('convertToInteractive',\n",
              "                                                     [key], {});\n",
              "          if (!dataTable) return;\n",
              "\n",
              "          const docLinkHtml = 'Like what you see? Visit the ' +\n",
              "            '<a target=\"_blank\" href=https://colab.research.google.com/notebooks/data_table.ipynb>data table notebook</a>'\n",
              "            + ' to learn more about interactive tables.';\n",
              "          element.innerHTML = '';\n",
              "          dataTable['output_type'] = 'display_data';\n",
              "          await google.colab.output.renderOutput(dataTable, element);\n",
              "          const docLink = document.createElement('div');\n",
              "          docLink.innerHTML = docLinkHtml;\n",
              "          element.appendChild(docLink);\n",
              "        }\n",
              "      </script>\n",
              "    </div>\n",
              "  </div>\n",
              "  "
            ]
          },
          "metadata": {},
          "execution_count": 8
        }
      ]
    },
    {
      "cell_type": "code",
      "source": [
        "obr_uch = pd.read_csv(\"/content/obr_uch.csv\")"
      ],
      "metadata": {
        "id": "016EQ748EupR"
      },
      "execution_count": 9,
      "outputs": []
    },
    {
      "cell_type": "code",
      "source": [
        "obr_uch.head()"
      ],
      "metadata": {
        "colab": {
          "base_uri": "https://localhost:8080/",
          "height": 206
        },
        "id": "zLgG7UolE3id",
        "outputId": "d1bd23d9-25ca-42b3-9f35-0d4759fc5cdd"
      },
      "execution_count": 10,
      "outputs": [
        {
          "output_type": "execute_result",
          "data": {
            "text/plain": [
              "      Abbr                                        Description\n",
              "0       АУ                              автономное учреждение\n",
              "1      АУК                     автономное учреждение культуры\n",
              "2       БУ                               бюджетное учреждение\n",
              "3      БУК                      бюджетное учреждение культуры\n",
              "4  ГАОУ ВО  государственное автономное образовательное учр..."
            ],
            "text/html": [
              "\n",
              "  <div id=\"df-85dc957f-6f19-435f-912f-49157452c170\">\n",
              "    <div class=\"colab-df-container\">\n",
              "      <div>\n",
              "<style scoped>\n",
              "    .dataframe tbody tr th:only-of-type {\n",
              "        vertical-align: middle;\n",
              "    }\n",
              "\n",
              "    .dataframe tbody tr th {\n",
              "        vertical-align: top;\n",
              "    }\n",
              "\n",
              "    .dataframe thead th {\n",
              "        text-align: right;\n",
              "    }\n",
              "</style>\n",
              "<table border=\"1\" class=\"dataframe\">\n",
              "  <thead>\n",
              "    <tr style=\"text-align: right;\">\n",
              "      <th></th>\n",
              "      <th>Abbr</th>\n",
              "      <th>Description</th>\n",
              "    </tr>\n",
              "  </thead>\n",
              "  <tbody>\n",
              "    <tr>\n",
              "      <th>0</th>\n",
              "      <td>АУ</td>\n",
              "      <td>автономное учреждение</td>\n",
              "    </tr>\n",
              "    <tr>\n",
              "      <th>1</th>\n",
              "      <td>АУК</td>\n",
              "      <td>автономное учреждение культуры</td>\n",
              "    </tr>\n",
              "    <tr>\n",
              "      <th>2</th>\n",
              "      <td>БУ</td>\n",
              "      <td>бюджетное учреждение</td>\n",
              "    </tr>\n",
              "    <tr>\n",
              "      <th>3</th>\n",
              "      <td>БУК</td>\n",
              "      <td>бюджетное учреждение культуры</td>\n",
              "    </tr>\n",
              "    <tr>\n",
              "      <th>4</th>\n",
              "      <td>ГАОУ ВО</td>\n",
              "      <td>государственное автономное образовательное учр...</td>\n",
              "    </tr>\n",
              "  </tbody>\n",
              "</table>\n",
              "</div>\n",
              "      <button class=\"colab-df-convert\" onclick=\"convertToInteractive('df-85dc957f-6f19-435f-912f-49157452c170')\"\n",
              "              title=\"Convert this dataframe to an interactive table.\"\n",
              "              style=\"display:none;\">\n",
              "        \n",
              "  <svg xmlns=\"http://www.w3.org/2000/svg\" height=\"24px\"viewBox=\"0 0 24 24\"\n",
              "       width=\"24px\">\n",
              "    <path d=\"M0 0h24v24H0V0z\" fill=\"none\"/>\n",
              "    <path d=\"M18.56 5.44l.94 2.06.94-2.06 2.06-.94-2.06-.94-.94-2.06-.94 2.06-2.06.94zm-11 1L8.5 8.5l.94-2.06 2.06-.94-2.06-.94L8.5 2.5l-.94 2.06-2.06.94zm10 10l.94 2.06.94-2.06 2.06-.94-2.06-.94-.94-2.06-.94 2.06-2.06.94z\"/><path d=\"M17.41 7.96l-1.37-1.37c-.4-.4-.92-.59-1.43-.59-.52 0-1.04.2-1.43.59L10.3 9.45l-7.72 7.72c-.78.78-.78 2.05 0 2.83L4 21.41c.39.39.9.59 1.41.59.51 0 1.02-.2 1.41-.59l7.78-7.78 2.81-2.81c.8-.78.8-2.07 0-2.86zM5.41 20L4 18.59l7.72-7.72 1.47 1.35L5.41 20z\"/>\n",
              "  </svg>\n",
              "      </button>\n",
              "      \n",
              "  <style>\n",
              "    .colab-df-container {\n",
              "      display:flex;\n",
              "      flex-wrap:wrap;\n",
              "      gap: 12px;\n",
              "    }\n",
              "\n",
              "    .colab-df-convert {\n",
              "      background-color: #E8F0FE;\n",
              "      border: none;\n",
              "      border-radius: 50%;\n",
              "      cursor: pointer;\n",
              "      display: none;\n",
              "      fill: #1967D2;\n",
              "      height: 32px;\n",
              "      padding: 0 0 0 0;\n",
              "      width: 32px;\n",
              "    }\n",
              "\n",
              "    .colab-df-convert:hover {\n",
              "      background-color: #E2EBFA;\n",
              "      box-shadow: 0px 1px 2px rgba(60, 64, 67, 0.3), 0px 1px 3px 1px rgba(60, 64, 67, 0.15);\n",
              "      fill: #174EA6;\n",
              "    }\n",
              "\n",
              "    [theme=dark] .colab-df-convert {\n",
              "      background-color: #3B4455;\n",
              "      fill: #D2E3FC;\n",
              "    }\n",
              "\n",
              "    [theme=dark] .colab-df-convert:hover {\n",
              "      background-color: #434B5C;\n",
              "      box-shadow: 0px 1px 3px 1px rgba(0, 0, 0, 0.15);\n",
              "      filter: drop-shadow(0px 1px 2px rgba(0, 0, 0, 0.3));\n",
              "      fill: #FFFFFF;\n",
              "    }\n",
              "  </style>\n",
              "\n",
              "      <script>\n",
              "        const buttonEl =\n",
              "          document.querySelector('#df-85dc957f-6f19-435f-912f-49157452c170 button.colab-df-convert');\n",
              "        buttonEl.style.display =\n",
              "          google.colab.kernel.accessAllowed ? 'block' : 'none';\n",
              "\n",
              "        async function convertToInteractive(key) {\n",
              "          const element = document.querySelector('#df-85dc957f-6f19-435f-912f-49157452c170');\n",
              "          const dataTable =\n",
              "            await google.colab.kernel.invokeFunction('convertToInteractive',\n",
              "                                                     [key], {});\n",
              "          if (!dataTable) return;\n",
              "\n",
              "          const docLinkHtml = 'Like what you see? Visit the ' +\n",
              "            '<a target=\"_blank\" href=https://colab.research.google.com/notebooks/data_table.ipynb>data table notebook</a>'\n",
              "            + ' to learn more about interactive tables.';\n",
              "          element.innerHTML = '';\n",
              "          dataTable['output_type'] = 'display_data';\n",
              "          await google.colab.output.renderOutput(dataTable, element);\n",
              "          const docLink = document.createElement('div');\n",
              "          docLink.innerHTML = docLinkHtml;\n",
              "          element.appendChild(docLink);\n",
              "        }\n",
              "      </script>\n",
              "    </div>\n",
              "  </div>\n",
              "  "
            ]
          },
          "metadata": {},
          "execution_count": 10
        }
      ]
    },
    {
      "cell_type": "code",
      "source": [
        "obr_uch['Abbr'] = obr_uch['Abbr'].apply(lambda s: ''.join(s.lower().split()))\n",
        "obr_uch['len_Abbr'] = obr_uch['Abbr'].apply(lambda x: len(x))\n",
        "\n",
        "obr_uch = obr_uch.sort_values('len_Abbr', ascending=False)"
      ],
      "metadata": {
        "id": "aQldRNfUE8J_"
      },
      "execution_count": 11,
      "outputs": []
    },
    {
      "cell_type": "code",
      "source": [
        "obr_uch.head()"
      ],
      "metadata": {
        "colab": {
          "base_uri": "https://localhost:8080/",
          "height": 206
        },
        "id": "iuIrY7SdGuBK",
        "outputId": "979ce855-95af-48bc-b4b8-dbd4b68f7f32"
      },
      "execution_count": 12,
      "outputs": [
        {
          "output_type": "execute_result",
          "data": {
            "text/plain": [
              "        Abbr                                        Description  len_Abbr\n",
              "47  фгбвоуво  федеральное государственное бюджетное военное ...         8\n",
              "46  фгаоувпо  федеральное государственное автономное образов...         8\n",
              "45   фгаоуво  федеральное государственное автономное образов...         7\n",
              "66   фкоувпо                                                NaN         7\n",
              "5    гаоудпо  государственное автономное образовательное учр...         7"
            ],
            "text/html": [
              "\n",
              "  <div id=\"df-c6718c1d-4ffb-4782-ae28-db4be9e52f65\">\n",
              "    <div class=\"colab-df-container\">\n",
              "      <div>\n",
              "<style scoped>\n",
              "    .dataframe tbody tr th:only-of-type {\n",
              "        vertical-align: middle;\n",
              "    }\n",
              "\n",
              "    .dataframe tbody tr th {\n",
              "        vertical-align: top;\n",
              "    }\n",
              "\n",
              "    .dataframe thead th {\n",
              "        text-align: right;\n",
              "    }\n",
              "</style>\n",
              "<table border=\"1\" class=\"dataframe\">\n",
              "  <thead>\n",
              "    <tr style=\"text-align: right;\">\n",
              "      <th></th>\n",
              "      <th>Abbr</th>\n",
              "      <th>Description</th>\n",
              "      <th>len_Abbr</th>\n",
              "    </tr>\n",
              "  </thead>\n",
              "  <tbody>\n",
              "    <tr>\n",
              "      <th>47</th>\n",
              "      <td>фгбвоуво</td>\n",
              "      <td>федеральное государственное бюджетное военное ...</td>\n",
              "      <td>8</td>\n",
              "    </tr>\n",
              "    <tr>\n",
              "      <th>46</th>\n",
              "      <td>фгаоувпо</td>\n",
              "      <td>федеральное государственное автономное образов...</td>\n",
              "      <td>8</td>\n",
              "    </tr>\n",
              "    <tr>\n",
              "      <th>45</th>\n",
              "      <td>фгаоуво</td>\n",
              "      <td>федеральное государственное автономное образов...</td>\n",
              "      <td>7</td>\n",
              "    </tr>\n",
              "    <tr>\n",
              "      <th>66</th>\n",
              "      <td>фкоувпо</td>\n",
              "      <td>NaN</td>\n",
              "      <td>7</td>\n",
              "    </tr>\n",
              "    <tr>\n",
              "      <th>5</th>\n",
              "      <td>гаоудпо</td>\n",
              "      <td>государственное автономное образовательное учр...</td>\n",
              "      <td>7</td>\n",
              "    </tr>\n",
              "  </tbody>\n",
              "</table>\n",
              "</div>\n",
              "      <button class=\"colab-df-convert\" onclick=\"convertToInteractive('df-c6718c1d-4ffb-4782-ae28-db4be9e52f65')\"\n",
              "              title=\"Convert this dataframe to an interactive table.\"\n",
              "              style=\"display:none;\">\n",
              "        \n",
              "  <svg xmlns=\"http://www.w3.org/2000/svg\" height=\"24px\"viewBox=\"0 0 24 24\"\n",
              "       width=\"24px\">\n",
              "    <path d=\"M0 0h24v24H0V0z\" fill=\"none\"/>\n",
              "    <path d=\"M18.56 5.44l.94 2.06.94-2.06 2.06-.94-2.06-.94-.94-2.06-.94 2.06-2.06.94zm-11 1L8.5 8.5l.94-2.06 2.06-.94-2.06-.94L8.5 2.5l-.94 2.06-2.06.94zm10 10l.94 2.06.94-2.06 2.06-.94-2.06-.94-.94-2.06-.94 2.06-2.06.94z\"/><path d=\"M17.41 7.96l-1.37-1.37c-.4-.4-.92-.59-1.43-.59-.52 0-1.04.2-1.43.59L10.3 9.45l-7.72 7.72c-.78.78-.78 2.05 0 2.83L4 21.41c.39.39.9.59 1.41.59.51 0 1.02-.2 1.41-.59l7.78-7.78 2.81-2.81c.8-.78.8-2.07 0-2.86zM5.41 20L4 18.59l7.72-7.72 1.47 1.35L5.41 20z\"/>\n",
              "  </svg>\n",
              "      </button>\n",
              "      \n",
              "  <style>\n",
              "    .colab-df-container {\n",
              "      display:flex;\n",
              "      flex-wrap:wrap;\n",
              "      gap: 12px;\n",
              "    }\n",
              "\n",
              "    .colab-df-convert {\n",
              "      background-color: #E8F0FE;\n",
              "      border: none;\n",
              "      border-radius: 50%;\n",
              "      cursor: pointer;\n",
              "      display: none;\n",
              "      fill: #1967D2;\n",
              "      height: 32px;\n",
              "      padding: 0 0 0 0;\n",
              "      width: 32px;\n",
              "    }\n",
              "\n",
              "    .colab-df-convert:hover {\n",
              "      background-color: #E2EBFA;\n",
              "      box-shadow: 0px 1px 2px rgba(60, 64, 67, 0.3), 0px 1px 3px 1px rgba(60, 64, 67, 0.15);\n",
              "      fill: #174EA6;\n",
              "    }\n",
              "\n",
              "    [theme=dark] .colab-df-convert {\n",
              "      background-color: #3B4455;\n",
              "      fill: #D2E3FC;\n",
              "    }\n",
              "\n",
              "    [theme=dark] .colab-df-convert:hover {\n",
              "      background-color: #434B5C;\n",
              "      box-shadow: 0px 1px 3px 1px rgba(0, 0, 0, 0.15);\n",
              "      filter: drop-shadow(0px 1px 2px rgba(0, 0, 0, 0.3));\n",
              "      fill: #FFFFFF;\n",
              "    }\n",
              "  </style>\n",
              "\n",
              "      <script>\n",
              "        const buttonEl =\n",
              "          document.querySelector('#df-c6718c1d-4ffb-4782-ae28-db4be9e52f65 button.colab-df-convert');\n",
              "        buttonEl.style.display =\n",
              "          google.colab.kernel.accessAllowed ? 'block' : 'none';\n",
              "\n",
              "        async function convertToInteractive(key) {\n",
              "          const element = document.querySelector('#df-c6718c1d-4ffb-4782-ae28-db4be9e52f65');\n",
              "          const dataTable =\n",
              "            await google.colab.kernel.invokeFunction('convertToInteractive',\n",
              "                                                     [key], {});\n",
              "          if (!dataTable) return;\n",
              "\n",
              "          const docLinkHtml = 'Like what you see? Visit the ' +\n",
              "            '<a target=\"_blank\" href=https://colab.research.google.com/notebooks/data_table.ipynb>data table notebook</a>'\n",
              "            + ' to learn more about interactive tables.';\n",
              "          element.innerHTML = '';\n",
              "          dataTable['output_type'] = 'display_data';\n",
              "          await google.colab.output.renderOutput(dataTable, element);\n",
              "          const docLink = document.createElement('div');\n",
              "          docLink.innerHTML = docLinkHtml;\n",
              "          element.appendChild(docLink);\n",
              "        }\n",
              "      </script>\n",
              "    </div>\n",
              "  </div>\n",
              "  "
            ]
          },
          "metadata": {},
          "execution_count": 12
        }
      ]
    },
    {
      "cell_type": "code",
      "source": [
        "data = pd.read_csv(\"/content/train_dataset_Altai.csv\")\n",
        "data.shape"
      ],
      "metadata": {
        "id": "o9N4JbcWudk2",
        "colab": {
          "base_uri": "https://localhost:8080/"
        },
        "outputId": "99c1a8b1-3a61-4f5a-a28f-6373d2e07b27"
      },
      "execution_count": 13,
      "outputs": [
        {
          "output_type": "execute_result",
          "data": {
            "text/plain": [
              "(13584, 24)"
            ]
          },
          "metadata": {},
          "execution_count": 13
        }
      ]
    },
    {
      "cell_type": "markdown",
      "source": [
        "## Рассмотрим датасет по ближе"
      ],
      "metadata": {
        "id": "GgCS5B_PutbW"
      }
    },
    {
      "cell_type": "code",
      "source": [
        "data.head()"
      ],
      "metadata": {
        "colab": {
          "base_uri": "https://localhost:8080/",
          "height": 473
        },
        "id": "qEvfySMMutBR",
        "outputId": "f17f309b-bee4-4f46-cbca-d68195d669f3"
      },
      "execution_count": 14,
      "outputs": [
        {
          "output_type": "execute_result",
          "data": {
            "text/plain": [
              "      ID  Код_группы  Год_Поступления  Пол Основания   Изучаемый_Язык  \\\n",
              "0  72716       16019             2015  Жен        ОО  Английский язык   \n",
              "1  63306       14895             2010  Муж        ЦН              NaN   \n",
              "2  82469       20103             2017  Жен        ДН  Английский язык   \n",
              "3  81661       19838             2017  Жен        БН  Английский язык   \n",
              "4  81509       19803             2017  Жен        БН  Английский язык   \n",
              "\n",
              "             Дата_Рождения                                    Уч_Заведение  \\\n",
              "0  1998-02-08 00:00:00.000                                  МБОУ \"СОШ №59\"   \n",
              "1  1992-04-18 00:00:00.000                                             NaN   \n",
              "2  1999-03-21 00:00:00.000                           МБОУ Алтайская СОШ №5   \n",
              "3  1994-12-08 00:00:00.000  ФГБОУ ВО Алтайский государственный университет   \n",
              "4  1995-06-28 00:00:00.000  ФГБОУ ВО Алтайский государственный университет   \n",
              "\n",
              "                             Где_Находится_УЗ  Год_Окончания_УЗ  ...  \\\n",
              "0                   Алтайский край, Барнаул г            2014.0  ...   \n",
              "1                                         NaN               NaN  ...   \n",
              "2  Алтайский край, Алтайский р-н, Алтайское с            2017.0  ...   \n",
              "3                  Алтайский край, г. Барнаул            2017.0  ...   \n",
              "4                  Алтайский край, г. Барнаул            2017.0  ...   \n",
              "\n",
              "   Общежитие Наличие_Матери Наличие_Отца Страна_Родители  Опекунство  Село  \\\n",
              "0        0.0              0          0.0          Россия         0.0   0.0   \n",
              "1        0.0              1          1.0          Россия         0.0   0.0   \n",
              "2        0.0              1          1.0          Россия         0.0   0.0   \n",
              "3        0.0              1          1.0          Россия         0.0   0.0   \n",
              "4        0.0              1          1.0          Россия         0.0   0.0   \n",
              "\n",
              "   Иностранец КодФакультета  СрБаллАттестата  Статус  \n",
              "0         0.0          41.0            4.294       3  \n",
              "1         0.0          28.0           67.000       4  \n",
              "2         0.0          41.0            4.133       4  \n",
              "3         0.0          35.0           74.000       4  \n",
              "4         0.0          28.0           53.000       4  \n",
              "\n",
              "[5 rows x 24 columns]"
            ],
            "text/html": [
              "\n",
              "  <div id=\"df-b043cad3-c119-4954-8191-14d111ac2800\">\n",
              "    <div class=\"colab-df-container\">\n",
              "      <div>\n",
              "<style scoped>\n",
              "    .dataframe tbody tr th:only-of-type {\n",
              "        vertical-align: middle;\n",
              "    }\n",
              "\n",
              "    .dataframe tbody tr th {\n",
              "        vertical-align: top;\n",
              "    }\n",
              "\n",
              "    .dataframe thead th {\n",
              "        text-align: right;\n",
              "    }\n",
              "</style>\n",
              "<table border=\"1\" class=\"dataframe\">\n",
              "  <thead>\n",
              "    <tr style=\"text-align: right;\">\n",
              "      <th></th>\n",
              "      <th>ID</th>\n",
              "      <th>Код_группы</th>\n",
              "      <th>Год_Поступления</th>\n",
              "      <th>Пол</th>\n",
              "      <th>Основания</th>\n",
              "      <th>Изучаемый_Язык</th>\n",
              "      <th>Дата_Рождения</th>\n",
              "      <th>Уч_Заведение</th>\n",
              "      <th>Где_Находится_УЗ</th>\n",
              "      <th>Год_Окончания_УЗ</th>\n",
              "      <th>...</th>\n",
              "      <th>Общежитие</th>\n",
              "      <th>Наличие_Матери</th>\n",
              "      <th>Наличие_Отца</th>\n",
              "      <th>Страна_Родители</th>\n",
              "      <th>Опекунство</th>\n",
              "      <th>Село</th>\n",
              "      <th>Иностранец</th>\n",
              "      <th>КодФакультета</th>\n",
              "      <th>СрБаллАттестата</th>\n",
              "      <th>Статус</th>\n",
              "    </tr>\n",
              "  </thead>\n",
              "  <tbody>\n",
              "    <tr>\n",
              "      <th>0</th>\n",
              "      <td>72716</td>\n",
              "      <td>16019</td>\n",
              "      <td>2015</td>\n",
              "      <td>Жен</td>\n",
              "      <td>ОО</td>\n",
              "      <td>Английский язык</td>\n",
              "      <td>1998-02-08 00:00:00.000</td>\n",
              "      <td>МБОУ \"СОШ №59\"</td>\n",
              "      <td>Алтайский край, Барнаул г</td>\n",
              "      <td>2014.0</td>\n",
              "      <td>...</td>\n",
              "      <td>0.0</td>\n",
              "      <td>0</td>\n",
              "      <td>0.0</td>\n",
              "      <td>Россия</td>\n",
              "      <td>0.0</td>\n",
              "      <td>0.0</td>\n",
              "      <td>0.0</td>\n",
              "      <td>41.0</td>\n",
              "      <td>4.294</td>\n",
              "      <td>3</td>\n",
              "    </tr>\n",
              "    <tr>\n",
              "      <th>1</th>\n",
              "      <td>63306</td>\n",
              "      <td>14895</td>\n",
              "      <td>2010</td>\n",
              "      <td>Муж</td>\n",
              "      <td>ЦН</td>\n",
              "      <td>NaN</td>\n",
              "      <td>1992-04-18 00:00:00.000</td>\n",
              "      <td>NaN</td>\n",
              "      <td>NaN</td>\n",
              "      <td>NaN</td>\n",
              "      <td>...</td>\n",
              "      <td>0.0</td>\n",
              "      <td>1</td>\n",
              "      <td>1.0</td>\n",
              "      <td>Россия</td>\n",
              "      <td>0.0</td>\n",
              "      <td>0.0</td>\n",
              "      <td>0.0</td>\n",
              "      <td>28.0</td>\n",
              "      <td>67.000</td>\n",
              "      <td>4</td>\n",
              "    </tr>\n",
              "    <tr>\n",
              "      <th>2</th>\n",
              "      <td>82469</td>\n",
              "      <td>20103</td>\n",
              "      <td>2017</td>\n",
              "      <td>Жен</td>\n",
              "      <td>ДН</td>\n",
              "      <td>Английский язык</td>\n",
              "      <td>1999-03-21 00:00:00.000</td>\n",
              "      <td>МБОУ Алтайская СОШ №5</td>\n",
              "      <td>Алтайский край, Алтайский р-н, Алтайское с</td>\n",
              "      <td>2017.0</td>\n",
              "      <td>...</td>\n",
              "      <td>0.0</td>\n",
              "      <td>1</td>\n",
              "      <td>1.0</td>\n",
              "      <td>Россия</td>\n",
              "      <td>0.0</td>\n",
              "      <td>0.0</td>\n",
              "      <td>0.0</td>\n",
              "      <td>41.0</td>\n",
              "      <td>4.133</td>\n",
              "      <td>4</td>\n",
              "    </tr>\n",
              "    <tr>\n",
              "      <th>3</th>\n",
              "      <td>81661</td>\n",
              "      <td>19838</td>\n",
              "      <td>2017</td>\n",
              "      <td>Жен</td>\n",
              "      <td>БН</td>\n",
              "      <td>Английский язык</td>\n",
              "      <td>1994-12-08 00:00:00.000</td>\n",
              "      <td>ФГБОУ ВО Алтайский государственный университет</td>\n",
              "      <td>Алтайский край, г. Барнаул</td>\n",
              "      <td>2017.0</td>\n",
              "      <td>...</td>\n",
              "      <td>0.0</td>\n",
              "      <td>1</td>\n",
              "      <td>1.0</td>\n",
              "      <td>Россия</td>\n",
              "      <td>0.0</td>\n",
              "      <td>0.0</td>\n",
              "      <td>0.0</td>\n",
              "      <td>35.0</td>\n",
              "      <td>74.000</td>\n",
              "      <td>4</td>\n",
              "    </tr>\n",
              "    <tr>\n",
              "      <th>4</th>\n",
              "      <td>81509</td>\n",
              "      <td>19803</td>\n",
              "      <td>2017</td>\n",
              "      <td>Жен</td>\n",
              "      <td>БН</td>\n",
              "      <td>Английский язык</td>\n",
              "      <td>1995-06-28 00:00:00.000</td>\n",
              "      <td>ФГБОУ ВО Алтайский государственный университет</td>\n",
              "      <td>Алтайский край, г. Барнаул</td>\n",
              "      <td>2017.0</td>\n",
              "      <td>...</td>\n",
              "      <td>0.0</td>\n",
              "      <td>1</td>\n",
              "      <td>1.0</td>\n",
              "      <td>Россия</td>\n",
              "      <td>0.0</td>\n",
              "      <td>0.0</td>\n",
              "      <td>0.0</td>\n",
              "      <td>28.0</td>\n",
              "      <td>53.000</td>\n",
              "      <td>4</td>\n",
              "    </tr>\n",
              "  </tbody>\n",
              "</table>\n",
              "<p>5 rows × 24 columns</p>\n",
              "</div>\n",
              "      <button class=\"colab-df-convert\" onclick=\"convertToInteractive('df-b043cad3-c119-4954-8191-14d111ac2800')\"\n",
              "              title=\"Convert this dataframe to an interactive table.\"\n",
              "              style=\"display:none;\">\n",
              "        \n",
              "  <svg xmlns=\"http://www.w3.org/2000/svg\" height=\"24px\"viewBox=\"0 0 24 24\"\n",
              "       width=\"24px\">\n",
              "    <path d=\"M0 0h24v24H0V0z\" fill=\"none\"/>\n",
              "    <path d=\"M18.56 5.44l.94 2.06.94-2.06 2.06-.94-2.06-.94-.94-2.06-.94 2.06-2.06.94zm-11 1L8.5 8.5l.94-2.06 2.06-.94-2.06-.94L8.5 2.5l-.94 2.06-2.06.94zm10 10l.94 2.06.94-2.06 2.06-.94-2.06-.94-.94-2.06-.94 2.06-2.06.94z\"/><path d=\"M17.41 7.96l-1.37-1.37c-.4-.4-.92-.59-1.43-.59-.52 0-1.04.2-1.43.59L10.3 9.45l-7.72 7.72c-.78.78-.78 2.05 0 2.83L4 21.41c.39.39.9.59 1.41.59.51 0 1.02-.2 1.41-.59l7.78-7.78 2.81-2.81c.8-.78.8-2.07 0-2.86zM5.41 20L4 18.59l7.72-7.72 1.47 1.35L5.41 20z\"/>\n",
              "  </svg>\n",
              "      </button>\n",
              "      \n",
              "  <style>\n",
              "    .colab-df-container {\n",
              "      display:flex;\n",
              "      flex-wrap:wrap;\n",
              "      gap: 12px;\n",
              "    }\n",
              "\n",
              "    .colab-df-convert {\n",
              "      background-color: #E8F0FE;\n",
              "      border: none;\n",
              "      border-radius: 50%;\n",
              "      cursor: pointer;\n",
              "      display: none;\n",
              "      fill: #1967D2;\n",
              "      height: 32px;\n",
              "      padding: 0 0 0 0;\n",
              "      width: 32px;\n",
              "    }\n",
              "\n",
              "    .colab-df-convert:hover {\n",
              "      background-color: #E2EBFA;\n",
              "      box-shadow: 0px 1px 2px rgba(60, 64, 67, 0.3), 0px 1px 3px 1px rgba(60, 64, 67, 0.15);\n",
              "      fill: #174EA6;\n",
              "    }\n",
              "\n",
              "    [theme=dark] .colab-df-convert {\n",
              "      background-color: #3B4455;\n",
              "      fill: #D2E3FC;\n",
              "    }\n",
              "\n",
              "    [theme=dark] .colab-df-convert:hover {\n",
              "      background-color: #434B5C;\n",
              "      box-shadow: 0px 1px 3px 1px rgba(0, 0, 0, 0.15);\n",
              "      filter: drop-shadow(0px 1px 2px rgba(0, 0, 0, 0.3));\n",
              "      fill: #FFFFFF;\n",
              "    }\n",
              "  </style>\n",
              "\n",
              "      <script>\n",
              "        const buttonEl =\n",
              "          document.querySelector('#df-b043cad3-c119-4954-8191-14d111ac2800 button.colab-df-convert');\n",
              "        buttonEl.style.display =\n",
              "          google.colab.kernel.accessAllowed ? 'block' : 'none';\n",
              "\n",
              "        async function convertToInteractive(key) {\n",
              "          const element = document.querySelector('#df-b043cad3-c119-4954-8191-14d111ac2800');\n",
              "          const dataTable =\n",
              "            await google.colab.kernel.invokeFunction('convertToInteractive',\n",
              "                                                     [key], {});\n",
              "          if (!dataTable) return;\n",
              "\n",
              "          const docLinkHtml = 'Like what you see? Visit the ' +\n",
              "            '<a target=\"_blank\" href=https://colab.research.google.com/notebooks/data_table.ipynb>data table notebook</a>'\n",
              "            + ' to learn more about interactive tables.';\n",
              "          element.innerHTML = '';\n",
              "          dataTable['output_type'] = 'display_data';\n",
              "          await google.colab.output.renderOutput(dataTable, element);\n",
              "          const docLink = document.createElement('div');\n",
              "          docLink.innerHTML = docLinkHtml;\n",
              "          element.appendChild(docLink);\n",
              "        }\n",
              "      </script>\n",
              "    </div>\n",
              "  </div>\n",
              "  "
            ]
          },
          "metadata": {},
          "execution_count": 14
        }
      ]
    },
    {
      "cell_type": "code",
      "source": [
        "for col in data.columns:\n",
        "    if data[col].dtype == 'O':\n",
        "        data[col] = data[col].fillna(data[col].mode()[0])\n",
        "        data[col] = data[col].apply(str.lower)\n",
        "    else:\n",
        "        data[col] = data[col].fillna(-1)"
      ],
      "metadata": {
        "id": "R-LMsWquytsI"
      },
      "execution_count": 15,
      "outputs": []
    },
    {
      "cell_type": "code",
      "source": [
        "data.info()"
      ],
      "metadata": {
        "colab": {
          "base_uri": "https://localhost:8080/"
        },
        "id": "Nq4swFFFqX8X",
        "outputId": "c64b3e07-956a-4fe4-ff12-ad323c2401ff"
      },
      "execution_count": 16,
      "outputs": [
        {
          "output_type": "stream",
          "name": "stdout",
          "text": [
            "<class 'pandas.core.frame.DataFrame'>\n",
            "RangeIndex: 13584 entries, 0 to 13583\n",
            "Data columns (total 24 columns):\n",
            " #   Column            Non-Null Count  Dtype  \n",
            "---  ------            --------------  -----  \n",
            " 0   ID                13584 non-null  int64  \n",
            " 1   Код_группы        13584 non-null  int64  \n",
            " 2   Год_Поступления   13584 non-null  int64  \n",
            " 3   Пол               13584 non-null  object \n",
            " 4   Основания         13584 non-null  object \n",
            " 5   Изучаемый_Язык    13584 non-null  object \n",
            " 6   Дата_Рождения     13584 non-null  object \n",
            " 7   Уч_Заведение      13584 non-null  object \n",
            " 8   Где_Находится_УЗ  13584 non-null  object \n",
            " 9   Год_Окончания_УЗ  13584 non-null  float64\n",
            " 10  Пособие           13584 non-null  float64\n",
            " 11  Страна_ПП         13584 non-null  object \n",
            " 12  Регион_ПП         13584 non-null  object \n",
            " 13  Город_ПП          13584 non-null  object \n",
            " 14  Общежитие         13584 non-null  float64\n",
            " 15  Наличие_Матери    13584 non-null  int64  \n",
            " 16  Наличие_Отца      13584 non-null  float64\n",
            " 17  Страна_Родители   13584 non-null  object \n",
            " 18  Опекунство        13584 non-null  float64\n",
            " 19  Село              13584 non-null  float64\n",
            " 20  Иностранец        13584 non-null  float64\n",
            " 21  КодФакультета     13584 non-null  float64\n",
            " 22  СрБаллАттестата   13584 non-null  float64\n",
            " 23  Статус            13584 non-null  int64  \n",
            "dtypes: float64(9), int64(5), object(10)\n",
            "memory usage: 2.5+ MB\n"
          ]
        }
      ]
    },
    {
      "cell_type": "code",
      "source": [
        "num_cols = []\n",
        "\n",
        "cat_cols = []\n",
        "\n",
        "target = 'Статус'"
      ],
      "metadata": {
        "id": "hD-AgmCOFP19"
      },
      "execution_count": 17,
      "outputs": []
    },
    {
      "cell_type": "code",
      "source": [
        "def lang(s):\n",
        "    if 'англ' in s:\n",
        "        return 'английский'\n",
        "    if 'нем' in s:\n",
        "        return 'немецкий'\n",
        "    if 'фран' in s:\n",
        "        return 'французский'\n",
        "    if 'русc' in s:\n",
        "        return 'русский'\n",
        "    return 'unknown'\n",
        "\n",
        "def unify_study(s):\n",
        "    s = ''.join(c for c in s if c.isalpha() or c == ' ')\n",
        "    s = ' '.join(s.split())\n",
        "    s_abbr = ''.join(token[0] for token in s.split())\n",
        "    s = ''.join(s.split())\n",
        "\n",
        "    for abbr in obr_uch['Abbr']:\n",
        "        if (abbr in s) or (abbr in s_abbr):\n",
        "            return abbr\n",
        "    \n",
        "    return 'misprint'"
      ],
      "metadata": {
        "id": "QkuIAIxDpQmG"
      },
      "execution_count": 18,
      "outputs": []
    },
    {
      "cell_type": "code",
      "source": [
        "for i in range(5):\n",
        "    data[f'Код_группы_unigramm_{i}'] = data['Код_группы'].apply(lambda x: str(x)[i])\n",
        "    cat_cols.append(f'Код_группы_unigramm_{i}')\n",
        "\n",
        "for i in range(4):\n",
        "    data[f'Код_группы_bigramm_{i}'] = data['Код_группы'].apply(lambda x: str(x)[i:i + 2])\n",
        "    cat_cols.append(f'Код_группы_bigramm_{i}')\n",
        "\n",
        "cat_cols.append('Код_группы')"
      ],
      "metadata": {
        "id": "PXipyYXhVvri"
      },
      "execution_count": 19,
      "outputs": []
    },
    {
      "cell_type": "code",
      "source": [
        "data['Год_Поступления'] = data['Год_Поступления'].apply(lambda x: x if x != 2212 else 2012)\n",
        "cat_cols.append('Год_Поступления')"
      ],
      "metadata": {
        "id": "BG6omFvQuYqf"
      },
      "execution_count": 20,
      "outputs": []
    },
    {
      "cell_type": "code",
      "source": [
        "cat_cols += ['Пол', 'Основания']"
      ],
      "metadata": {
        "id": "2e2lo-u7voe8"
      },
      "execution_count": 21,
      "outputs": []
    },
    {
      "cell_type": "code",
      "source": [
        "data['Год_рождения'] = data['Дата_Рождения'].apply(lambda x: x.split()[0].split('-')[0])\n",
        "data['Месяц_рождения'] = data['Дата_Рождения'].apply(lambda x: x.split()[0].split('-')[1])\n",
        "data['День_рождения'] = data['Дата_Рождения'].apply(lambda x: x.split()[0].split('-')[2])\n",
        "\n",
        "cat_cols += ['Год_рождения', 'Месяц_рождения', 'День_рождения']"
      ],
      "metadata": {
        "id": "GhegSOo00OgD"
      },
      "execution_count": 22,
      "outputs": []
    },
    {
      "cell_type": "code",
      "source": [
        "data['Уч_Заведение'] = data['Уч_Заведение'].apply(unify_study)\n",
        "\n",
        "cat_cols.append('Уч_Заведение')"
      ],
      "metadata": {
        "id": "CsEVfxgL02pU"
      },
      "execution_count": 23,
      "outputs": []
    },
    {
      "cell_type": "code",
      "source": [
        "data['Год_Окончания_УЗ'] = data['Год_Окончания_УЗ'].apply(lambda x: str(int(x)))\n",
        "\n",
        "cat_cols.append('Год_Окончания_УЗ')"
      ],
      "metadata": {
        "id": "4guXmg4XB2Fs"
      },
      "execution_count": 24,
      "outputs": []
    },
    {
      "cell_type": "code",
      "source": [
        "cat_cols += ['Наличие_Матери', 'Наличие_Отца']"
      ],
      "metadata": {
        "id": "6QhRBdEr9TgJ"
      },
      "execution_count": 25,
      "outputs": []
    },
    {
      "cell_type": "code",
      "source": [
        "data['КодФакультета'] = data['КодФакультета'].apply(lambda x: str(int(x)))\n",
        "\n",
        "for i in range(2):\n",
        "    data[f'КодФакультета_unigramm_{i}'] = data['КодФакультета'].apply(lambda x: x[i])\n",
        "    cat_cols.append(f'КодФакультета_unigramm_{i}')\n",
        "\n",
        "cat_cols.append('КодФакультета')"
      ],
      "metadata": {
        "id": "kiJKhp1C_Xd4"
      },
      "execution_count": 26,
      "outputs": []
    },
    {
      "cell_type": "code",
      "source": [
        "ege_median = data['СрБаллАттестата'][(data['СрБаллАттестата'] <= 100) & (data['СрБаллАттестата'] > 29)].median()\n",
        "data['СрБаллАттестата'] = data['СрБаллАттестата'].apply(lambda x: x if x <= 5 or 29 < x <= 100 else ege_median)\n",
        "\n",
        "att_mean = data['СрБаллАттестата'][data['СрБаллАттестата'] <= 5].mean()\n",
        "att_std = data['СрБаллАттестата'][data['СрБаллАттестата'] <= 5].std()\n",
        "\n",
        "ege_mean = data['СрБаллАттестата'][data['СрБаллАттестата'] > 5].mean()\n",
        "ege_std = data['СрБаллАттестата'][data['СрБаллАттестата'] > 5].std()\n",
        "\n",
        "data['СрБаллАттестата'] = data['СрБаллАттестата'].apply(lambda x: (x - ege_mean) / ege_std if x > 5 else (x - att_mean) / att_std)\n",
        "num_cols.append('СрБаллАттестата')"
      ],
      "metadata": {
        "id": "lKK1XeA-Ao5T"
      },
      "execution_count": 27,
      "outputs": []
    },
    {
      "cell_type": "markdown",
      "source": [
        "## Генерация новых фичей"
      ],
      "metadata": {
        "id": "nVPCjHx_1qeC"
      }
    },
    {
      "cell_type": "code",
      "source": [
        "years_fresh = []\n",
        "years_grad = []\n",
        "years_study = []\n",
        "for birth_year, fresh_year, grad_year in zip(data['Год_рождения'], data['Год_Поступления'], data['Год_Окончания_УЗ']):\n",
        "    birth_year = int(birth_year) if birth_year not in ['other', 'nan'] else -1\n",
        "    fresh_year = int(fresh_year) if fresh_year not in ['other', 'nan'] else -1\n",
        "    grad_year = int(grad_year) if grad_year not in ['other', 'nan'] else -1\n",
        "\n",
        "    if birth_year != -1 and fresh_year != -1:\n",
        "        years_fresh.append(fresh_year - birth_year)\n",
        "    else:\n",
        "        years_fresh.append(-1)\n",
        "\n",
        "    if birth_year != -1 and grad_year != -1:\n",
        "        years_grad.append(grad_year - birth_year)\n",
        "    else:\n",
        "        years_grad.append(-1)\n",
        "\n",
        "    if grad_year != -1 and fresh_year != -1:\n",
        "        years_study.append(fresh_year - grad_year)\n",
        "    else:\n",
        "        years_study.append(-1)\n",
        "\n",
        "data['Лет_поступил'] = years_fresh\n",
        "data['Лет_закончил'] = years_grad\n",
        "data['Лет_ждал'] = years_study\n",
        "\n",
        "data['Лет_ждал'] = data['Лет_ждал'].apply(lambda x: x if x > 0 else 0)\n",
        "data['Лет_закончил'] = data['Лет_закончил'].replace(-1, data['Лет_закончил'][data['Лет_закончил'] > 0].median())\n",
        "\n",
        "cat_cols += ['Лет_поступил', 'Лет_закончил', 'Лет_ждал']"
      ],
      "metadata": {
        "id": "9BRkPH7Fkg7Q"
      },
      "execution_count": 28,
      "outputs": []
    },
    {
      "cell_type": "markdown",
      "source": [
        "## Стандартизация фичей"
      ],
      "metadata": {
        "id": "B6LTlTgq1uKm"
      }
    },
    {
      "cell_type": "code",
      "source": [
        "for col in cat_cols:\n",
        "    data[col] = data[col].apply(str)"
      ],
      "metadata": {
        "id": "_XvBqfWlDJpo"
      },
      "execution_count": 29,
      "outputs": []
    },
    {
      "cell_type": "code",
      "source": [
        "mean_num = dict()\n",
        "std_num = dict()\n",
        "\n",
        "for col in num_cols:\n",
        "    data[col] = data[col].replace(-1, data[col][data[col] != -1].median())\n",
        "\n",
        "\n",
        "num_cols_len = len(num_cols)\n",
        "\n",
        "for col in num_cols:\n",
        "    mean_num[col] = data[col].mean()\n",
        "    std_num[col] = data[col].std()\n",
        "\n",
        "    data[col] = (data[col] - mean_num[col]) / std_num[col]"
      ],
      "metadata": {
        "id": "xl3BlILUFE0E"
      },
      "execution_count": 30,
      "outputs": []
    },
    {
      "cell_type": "markdown",
      "source": [
        "## Визуально посмотрим на данные"
      ],
      "metadata": {
        "id": "OHbqtSoiKy8b"
      }
    },
    {
      "cell_type": "code",
      "source": [
        "_ = data[num_cols].hist()"
      ],
      "metadata": {
        "colab": {
          "base_uri": "https://localhost:8080/",
          "height": 281
        },
        "id": "4z1UaHA4WIJF",
        "outputId": "3514483f-0de7-4674-e5af-871fa9336b61"
      },
      "execution_count": 31,
      "outputs": [
        {
          "output_type": "display_data",
          "data": {
            "text/plain": [
              "<Figure size 432x288 with 1 Axes>"
            ],
            "image/png": "[encoded data removed]"
          },
          "metadata": {
            "needs_background": "light"
          }
        }
      ]
    },
    {
      "cell_type": "code",
      "source": [
        "len(cat_cols)"
      ],
      "metadata": {
        "colab": {
          "base_uri": "https://localhost:8080/"
        },
        "id": "85P0w9maH_ST",
        "outputId": "a367c977-7a5c-4546-e424-ae92c7306360"
      },
      "execution_count": 32,
      "outputs": [
        {
          "output_type": "execute_result",
          "data": {
            "text/plain": [
              "26"
            ]
          },
          "metadata": {},
          "execution_count": 32
        }
      ]
    },
    {
      "cell_type": "code",
      "source": [
        "fig, axs = plt.subplots(8, 4, figsize=(40, 60))\n",
        "for i, col in enumerate(cat_cols):\n",
        "    vc = data[col].value_counts()\n",
        "    labels = [k for k in vc.keys()]\n",
        "    values = [vc[k] for k in labels]\n",
        "    axs[i // 4, i % 4].bar(labels, values)\n",
        "    axs[i // 4, i % 4].set_title(col)\n",
        "plt.show()"
      ],
      "metadata": {
        "colab": {
          "base_uri": "https://localhost:8080/",
          "height": 1000
        },
        "id": "OqJQE7yYMs3M",
        "outputId": "0a219318-a3c7-4f01-b62d-2326c0f307c0"
      },
      "execution_count": 33,
      "outputs": [
        {
          "output_type": "display_data",
          "data": {
            "text/plain": [
              "<Figure size 2880x4320 with 32 Axes>"
            ],
            "image/png": "[encoded data removed]"
          },
          "metadata": {
            "needs_background": "light"
          }
        }
      ]
    },
    {
      "cell_type": "markdown",
      "source": [
        "## Выделим выборки"
      ],
      "metadata": {
        "id": "VLOa56f5zfUg"
      }
    },
    {
      "cell_type": "code",
      "source": [
        "X = data[num_cols + cat_cols]\n",
        "y = data[target]\n",
        "X.shape, y.shape"
      ],
      "metadata": {
        "colab": {
          "base_uri": "https://localhost:8080/"
        },
        "id": "BSNwra3e07wI",
        "outputId": "96a94cbd-7e2a-4bb5-b902-d84c8b202d4d"
      },
      "execution_count": 34,
      "outputs": [
        {
          "output_type": "execute_result",
          "data": {
            "text/plain": [
              "((13584, 27), (13584,))"
            ]
          },
          "metadata": {},
          "execution_count": 34
        }
      ]
    },
    {
      "cell_type": "code",
      "source": [
        "X_train, X_test, y_train, y_test = train_test_split(X, y, test_size=0.3, random_state=42)"
      ],
      "metadata": {
        "id": "E-LfoARf2WGZ"
      },
      "execution_count": 35,
      "outputs": []
    },
    {
      "cell_type": "code",
      "source": [
        "y_train.hist()"
      ],
      "metadata": {
        "colab": {
          "base_uri": "https://localhost:8080/",
          "height": 285
        },
        "id": "tfFiezRXq8o1",
        "outputId": "0a59bfe0-7fc4-4444-a10d-a18a0d987ca0"
      },
      "execution_count": 36,
      "outputs": [
        {
          "output_type": "execute_result",
          "data": {
            "text/plain": [
              "<matplotlib.axes._subplots.AxesSubplot at 0x7fc36987fe10>"
            ]
          },
          "metadata": {},
          "execution_count": 36
        },
        {
          "output_type": "display_data",
          "data": {
            "text/plain": [
              "<Figure size 432x288 with 1 Axes>"
            ],
            "image/png": "[encoded data removed]"
          },
          "metadata": {
            "needs_background": "light"
          }
        }
      ]
    },
    {
      "cell_type": "markdown",
      "source": [
        "## Обучение модели"
      ],
      "metadata": {
        "id": "X_HOvpXy2e3S"
      }
    },
    {
      "cell_type": "code",
      "source": [
        "scorer = make_scorer(f1_score, average='macro', zero_division = 0)\n",
        "\n",
        "cat_features = list(i for i, v in enumerate(X.columns) if v in cat_cols)\n",
        "class_weights_sqrt = {i : (sum(y == 4) / sum(y == i)) ** .5 for i in sorted(y.unique())}\n",
        "rcv = RepeatedStratifiedKFold(n_splits=5, n_repeats=5, random_state=0)\n",
        "\n",
        "param_grid={\n",
        "            'loss_function':['MultiClass'],\n",
        "            'task_type':['GPU'],\n",
        "            'class_weights':[class_weights_sqrt],\n",
        "            'cat_features':[cat_features],\n",
        "            'iterations':[500],\n",
        "            'grow_policy':['Lossguide'],\n",
        "            'leaf_estimation_backtracking':['Armijo'],\n",
        "            'boosting_type':['Plain'],\n",
        "            'l2_leaf_reg':[5.93],\n",
        "            'bootstrap_type':['Bayesian'],\n",
        "            'depth':[8],\n",
        "            'random_state':[42]\n",
        "            }\n",
        "\n",
        "boost_CV = HalvingGridSearchCV(\n",
        "            CatBoostClassifier(),\n",
        "            param_grid=param_grid,\n",
        "            scoring=scorer,\n",
        "            cv=rcv,\n",
        "            # cv=5,\n",
        "            verbose=2,\n",
        "            n_jobs=-1\n",
        "        )\n",
        "\n",
        "boost_CV.fit(X, y)\n",
        "model = boost_CV.best_estimator_\n",
        "print(boost_CV.best_params_)\n",
        "print(boost_CV.best_score_)"
      ],
      "metadata": {
        "colab": {
          "base_uri": "https://localhost:8080/"
        },
        "id": "E_t72FBkYp2Q",
        "outputId": "e6ba214d-f12c-4237-eac5-1068c0064698"
      },
      "execution_count": 38,
      "outputs": [
        {
          "output_type": "stream",
          "name": "stdout",
          "text": [
            "n_iterations: 1\n",
            "n_required_iterations: 1\n",
            "n_possible_iterations: 1\n",
            "min_resources_: 13584\n",
            "max_resources_: 13584\n",
            "aggressive_elimination: False\n",
            "factor: 3\n",
            "----------\n",
            "iter: 0\n",
            "n_candidates: 1\n",
            "n_resources: 13584\n",
            "Fitting 25 folds for each of 1 candidates, totalling 25 fits\n",
            "0:\tlearn: 1.0637923\ttotal: 20.3ms\tremaining: 10.1s\n",
            "1:\tlearn: 1.0313865\ttotal: 39.3ms\tremaining: 9.79s\n",
            "2:\tlearn: 0.9999453\ttotal: 57.2ms\tremaining: 9.48s\n",
            "3:\tlearn: 0.9713956\ttotal: 75.4ms\tremaining: 9.35s\n",
            "4:\tlearn: 0.9441835\ttotal: 114ms\tremaining: 11.2s\n",
            "5:\tlearn: 0.9193820\ttotal: 131ms\tremaining: 10.8s\n",
            "6:\tlearn: 0.8965488\ttotal: 149ms\tremaining: 10.5s\n",
            "7:\tlearn: 0.8749705\ttotal: 166ms\tremaining: 10.2s\n",
            "8:\tlearn: 0.8549611\ttotal: 183ms\tremaining: 9.99s\n",
            "9:\tlearn: 0.8360549\ttotal: 199ms\tremaining: 9.76s\n",
            "10:\tlearn: 0.8176128\ttotal: 215ms\tremaining: 9.57s\n",
            "11:\tlearn: 0.8001367\ttotal: 237ms\tremaining: 9.64s\n",
            "12:\tlearn: 0.7834884\ttotal: 253ms\tremaining: 9.49s\n",
            "13:\tlearn: 0.7677088\ttotal: 270ms\tremaining: 9.37s\n",
            "14:\tlearn: 0.7525720\ttotal: 287ms\tremaining: 9.28s\n",
            "15:\tlearn: 0.7384147\ttotal: 304ms\tremaining: 9.19s\n",
            "16:\tlearn: 0.7253488\ttotal: 319ms\tremaining: 9.07s\n",
            "17:\tlearn: 0.7130588\ttotal: 335ms\tremaining: 8.97s\n",
            "18:\tlearn: 0.7009541\ttotal: 359ms\tremaining: 9.08s\n",
            "19:\tlearn: 0.6891388\ttotal: 376ms\tremaining: 9.01s\n",
            "20:\tlearn: 0.6783368\ttotal: 393ms\tremaining: 8.96s\n",
            "21:\tlearn: 0.6681449\ttotal: 409ms\tremaining: 8.89s\n",
            "22:\tlearn: 0.6581793\ttotal: 426ms\tremaining: 8.84s\n",
            "23:\tlearn: 0.6484778\ttotal: 447ms\tremaining: 8.86s\n",
            "24:\tlearn: 0.6393781\ttotal: 464ms\tremaining: 8.81s\n",
            "25:\tlearn: 0.6313105\ttotal: 481ms\tremaining: 8.77s\n",
            "26:\tlearn: 0.6227244\ttotal: 497ms\tremaining: 8.71s\n",
            "27:\tlearn: 0.6146855\ttotal: 514ms\tremaining: 8.66s\n",
            "28:\tlearn: 0.6067764\ttotal: 532ms\tremaining: 8.65s\n",
            "29:\tlearn: 0.5995842\ttotal: 549ms\tremaining: 8.59s\n",
            "30:\tlearn: 0.5924736\ttotal: 565ms\tremaining: 8.55s\n",
            "31:\tlearn: 0.5860308\ttotal: 581ms\tremaining: 8.49s\n",
            "32:\tlearn: 0.5789895\ttotal: 596ms\tremaining: 8.44s\n",
            "33:\tlearn: 0.5727908\ttotal: 613ms\tremaining: 8.4s\n",
            "34:\tlearn: 0.5667874\ttotal: 631ms\tremaining: 8.38s\n",
            "35:\tlearn: 0.5610762\ttotal: 654ms\tremaining: 8.43s\n",
            "36:\tlearn: 0.5554661\ttotal: 673ms\tremaining: 8.41s\n",
            "37:\tlearn: 0.5504649\ttotal: 692ms\tremaining: 8.41s\n",
            "38:\tlearn: 0.5455852\ttotal: 710ms\tremaining: 8.39s\n",
            "39:\tlearn: 0.5406318\ttotal: 727ms\tremaining: 8.36s\n",
            "40:\tlearn: 0.5360482\ttotal: 743ms\tremaining: 8.32s\n",
            "41:\tlearn: 0.5314836\ttotal: 760ms\tremaining: 8.29s\n",
            "42:\tlearn: 0.5271229\ttotal: 776ms\tremaining: 8.24s\n",
            "43:\tlearn: 0.5231114\ttotal: 792ms\tremaining: 8.21s\n",
            "44:\tlearn: 0.5189385\ttotal: 808ms\tremaining: 8.17s\n",
            "45:\tlearn: 0.5150232\ttotal: 825ms\tremaining: 8.14s\n",
            "46:\tlearn: 0.5111743\ttotal: 842ms\tremaining: 8.11s\n",
            "47:\tlearn: 0.5075138\ttotal: 863ms\tremaining: 8.12s\n",
            "48:\tlearn: 0.5039197\ttotal: 880ms\tremaining: 8.1s\n",
            "49:\tlearn: 0.5003750\ttotal: 897ms\tremaining: 8.07s\n",
            "50:\tlearn: 0.4969503\ttotal: 913ms\tremaining: 8.04s\n",
            "51:\tlearn: 0.4938486\ttotal: 930ms\tremaining: 8.01s\n",
            "52:\tlearn: 0.4906146\ttotal: 949ms\tremaining: 8s\n",
            "53:\tlearn: 0.4875141\ttotal: 973ms\tremaining: 8.03s\n",
            "54:\tlearn: 0.4846809\ttotal: 990ms\tremaining: 8.01s\n",
            "55:\tlearn: 0.4817683\ttotal: 1.01s\tremaining: 7.99s\n",
            "56:\tlearn: 0.4792079\ttotal: 1.02s\tremaining: 7.97s\n",
            "57:\tlearn: 0.4767238\ttotal: 1.04s\tremaining: 7.95s\n",
            "58:\tlearn: 0.4740165\ttotal: 1.06s\tremaining: 7.96s\n",
            "59:\tlearn: 0.4715217\ttotal: 1.08s\tremaining: 7.94s\n",
            "60:\tlearn: 0.4689613\ttotal: 1.11s\tremaining: 8s\n",
            "61:\tlearn: 0.4668584\ttotal: 1.13s\tremaining: 7.98s\n",
            "62:\tlearn: 0.4647975\ttotal: 1.15s\tremaining: 7.95s\n",
            "63:\tlearn: 0.4623928\ttotal: 1.16s\tremaining: 7.93s\n",
            "64:\tlearn: 0.4603123\ttotal: 1.18s\tremaining: 7.91s\n",
            "65:\tlearn: 0.4585063\ttotal: 1.2s\tremaining: 7.9s\n",
            "66:\tlearn: 0.4566648\ttotal: 1.22s\tremaining: 7.88s\n",
            "67:\tlearn: 0.4547958\ttotal: 1.24s\tremaining: 7.87s\n",
            "68:\tlearn: 0.4530528\ttotal: 1.27s\tremaining: 7.92s\n",
            "69:\tlearn: 0.4512842\ttotal: 1.29s\tremaining: 7.93s\n",
            "70:\tlearn: 0.4496230\ttotal: 1.31s\tremaining: 7.91s\n",
            "71:\tlearn: 0.4476356\ttotal: 1.33s\tremaining: 7.9s\n",
            "72:\tlearn: 0.4457894\ttotal: 1.35s\tremaining: 7.88s\n",
            "73:\tlearn: 0.4443098\ttotal: 1.37s\tremaining: 7.87s\n",
            "74:\tlearn: 0.4425356\ttotal: 1.39s\tremaining: 7.85s\n",
            "75:\tlearn: 0.4411950\ttotal: 1.4s\tremaining: 7.84s\n",
            "76:\tlearn: 0.4398706\ttotal: 1.42s\tremaining: 7.82s\n",
            "77:\tlearn: 0.4382793\ttotal: 1.44s\tremaining: 7.82s\n",
            "78:\tlearn: 0.4370391\ttotal: 1.46s\tremaining: 7.8s\n",
            "79:\tlearn: 0.4358392\ttotal: 1.49s\tremaining: 7.81s\n",
            "80:\tlearn: 0.4344626\ttotal: 1.51s\tremaining: 7.8s\n",
            "81:\tlearn: 0.4332774\ttotal: 1.53s\tremaining: 7.79s\n",
            "82:\tlearn: 0.4320602\ttotal: 1.55s\tremaining: 7.77s\n",
            "83:\tlearn: 0.4307426\ttotal: 1.57s\tremaining: 7.76s\n",
            "84:\tlearn: 0.4293020\ttotal: 1.58s\tremaining: 7.74s\n",
            "85:\tlearn: 0.4282465\ttotal: 1.6s\tremaining: 7.73s\n",
            "86:\tlearn: 0.4271256\ttotal: 1.62s\tremaining: 7.71s\n",
            "87:\tlearn: 0.4261592\ttotal: 1.64s\tremaining: 7.7s\n",
            "88:\tlearn: 0.4251548\ttotal: 1.66s\tremaining: 7.69s\n",
            "89:\tlearn: 0.4240018\ttotal: 1.69s\tremaining: 7.69s\n",
            "90:\tlearn: 0.4228848\ttotal: 1.71s\tremaining: 7.68s\n",
            "91:\tlearn: 0.4217280\ttotal: 1.73s\tremaining: 7.66s\n",
            "92:\tlearn: 0.4209381\ttotal: 1.75s\tremaining: 7.64s\n",
            "93:\tlearn: 0.4199190\ttotal: 1.77s\tremaining: 7.63s\n",
            "94:\tlearn: 0.4185539\ttotal: 1.78s\tremaining: 7.61s\n",
            "95:\tlearn: 0.4174308\ttotal: 1.81s\tremaining: 7.6s\n",
            "96:\tlearn: 0.4163185\ttotal: 1.82s\tremaining: 7.58s\n",
            "97:\tlearn: 0.4151541\ttotal: 1.85s\tremaining: 7.58s\n",
            "98:\tlearn: 0.4141979\ttotal: 1.87s\tremaining: 7.58s\n",
            "99:\tlearn: 0.4132016\ttotal: 1.9s\tremaining: 7.59s\n",
            "100:\tlearn: 0.4115882\ttotal: 1.92s\tremaining: 7.57s\n",
            "101:\tlearn: 0.4103210\ttotal: 1.94s\tremaining: 7.55s\n",
            "102:\tlearn: 0.4095382\ttotal: 1.96s\tremaining: 7.55s\n",
            "103:\tlearn: 0.4087543\ttotal: 1.98s\tremaining: 7.53s\n",
            "104:\tlearn: 0.4077246\ttotal: 2s\tremaining: 7.51s\n",
            "105:\tlearn: 0.4070709\ttotal: 2.02s\tremaining: 7.5s\n",
            "106:\tlearn: 0.4062572\ttotal: 2.04s\tremaining: 7.48s\n",
            "107:\tlearn: 0.4056176\ttotal: 2.06s\tremaining: 7.47s\n",
            "108:\tlearn: 0.4049505\ttotal: 2.08s\tremaining: 7.45s\n",
            "109:\tlearn: 0.4042551\ttotal: 2.12s\tremaining: 7.51s\n",
            "110:\tlearn: 0.4036344\ttotal: 2.14s\tremaining: 7.49s\n",
            "111:\tlearn: 0.4028218\ttotal: 2.16s\tremaining: 7.47s\n",
            "112:\tlearn: 0.4018098\ttotal: 2.19s\tremaining: 7.49s\n",
            "113:\tlearn: 0.4011924\ttotal: 2.21s\tremaining: 7.47s\n",
            "114:\tlearn: 0.4005738\ttotal: 2.23s\tremaining: 7.45s\n",
            "115:\tlearn: 0.3998770\ttotal: 2.24s\tremaining: 7.43s\n",
            "116:\tlearn: 0.3991547\ttotal: 2.26s\tremaining: 7.4s\n",
            "117:\tlearn: 0.3984649\ttotal: 2.28s\tremaining: 7.39s\n",
            "118:\tlearn: 0.3979153\ttotal: 2.3s\tremaining: 7.37s\n",
            "119:\tlearn: 0.3970226\ttotal: 2.32s\tremaining: 7.36s\n",
            "120:\tlearn: 0.3961947\ttotal: 2.34s\tremaining: 7.34s\n",
            "121:\tlearn: 0.3954982\ttotal: 2.36s\tremaining: 7.33s\n",
            "122:\tlearn: 0.3950226\ttotal: 2.38s\tremaining: 7.3s\n",
            "123:\tlearn: 0.3943847\ttotal: 2.4s\tremaining: 7.28s\n",
            "124:\tlearn: 0.3938720\ttotal: 2.42s\tremaining: 7.27s\n",
            "125:\tlearn: 0.3932404\ttotal: 2.44s\tremaining: 7.25s\n",
            "126:\tlearn: 0.3925439\ttotal: 2.46s\tremaining: 7.23s\n",
            "127:\tlearn: 0.3918787\ttotal: 2.48s\tremaining: 7.21s\n",
            "128:\tlearn: 0.3912808\ttotal: 2.5s\tremaining: 7.2s\n",
            "129:\tlearn: 0.3908072\ttotal: 2.52s\tremaining: 7.17s\n",
            "130:\tlearn: 0.3903150\ttotal: 2.54s\tremaining: 7.16s\n",
            "131:\tlearn: 0.3894898\ttotal: 2.56s\tremaining: 7.14s\n",
            "132:\tlearn: 0.3891856\ttotal: 2.58s\tremaining: 7.13s\n",
            "133:\tlearn: 0.3888446\ttotal: 2.6s\tremaining: 7.11s\n",
            "134:\tlearn: 0.3881581\ttotal: 2.62s\tremaining: 7.09s\n",
            "135:\tlearn: 0.3875052\ttotal: 2.64s\tremaining: 7.07s\n",
            "136:\tlearn: 0.3871593\ttotal: 2.66s\tremaining: 7.05s\n",
            "137:\tlearn: 0.3868605\ttotal: 2.68s\tremaining: 7.03s\n",
            "138:\tlearn: 0.3863184\ttotal: 2.7s\tremaining: 7.01s\n",
            "139:\tlearn: 0.3859530\ttotal: 2.72s\tremaining: 6.99s\n",
            "140:\tlearn: 0.3855711\ttotal: 2.74s\tremaining: 6.97s\n",
            "141:\tlearn: 0.3849590\ttotal: 2.76s\tremaining: 6.96s\n",
            "142:\tlearn: 0.3844595\ttotal: 2.78s\tremaining: 6.94s\n",
            "143:\tlearn: 0.3840979\ttotal: 2.8s\tremaining: 6.93s\n",
            "144:\tlearn: 0.3833163\ttotal: 2.82s\tremaining: 6.91s\n",
            "145:\tlearn: 0.3829753\ttotal: 2.84s\tremaining: 6.89s\n",
            "146:\tlearn: 0.3826432\ttotal: 2.86s\tremaining: 6.87s\n",
            "147:\tlearn: 0.3821225\ttotal: 2.88s\tremaining: 6.85s\n",
            "148:\tlearn: 0.3817182\ttotal: 2.9s\tremaining: 6.83s\n",
            "149:\tlearn: 0.3813052\ttotal: 2.92s\tremaining: 6.81s\n",
            "150:\tlearn: 0.3808075\ttotal: 2.94s\tremaining: 6.79s\n",
            "151:\tlearn: 0.3804798\ttotal: 2.96s\tremaining: 6.77s\n",
            "152:\tlearn: 0.3800711\ttotal: 2.98s\tremaining: 6.76s\n",
            "153:\tlearn: 0.3797651\ttotal: 3s\tremaining: 6.74s\n",
            "154:\tlearn: 0.3793749\ttotal: 3.02s\tremaining: 6.72s\n",
            "155:\tlearn: 0.3789014\ttotal: 3.04s\tremaining: 6.7s\n",
            "156:\tlearn: 0.3783059\ttotal: 3.07s\tremaining: 6.71s\n",
            "157:\tlearn: 0.3780166\ttotal: 3.1s\tremaining: 6.7s\n",
            "158:\tlearn: 0.3775816\ttotal: 3.12s\tremaining: 6.7s\n",
            "159:\tlearn: 0.3771732\ttotal: 3.14s\tremaining: 6.68s\n",
            "160:\tlearn: 0.3768984\ttotal: 3.16s\tremaining: 6.66s\n",
            "161:\tlearn: 0.3765346\ttotal: 3.19s\tremaining: 6.65s\n",
            "162:\tlearn: 0.3761962\ttotal: 3.21s\tremaining: 6.63s\n",
            "163:\tlearn: 0.3758685\ttotal: 3.23s\tremaining: 6.61s\n",
            "164:\tlearn: 0.3756022\ttotal: 3.25s\tremaining: 6.59s\n",
            "165:\tlearn: 0.3750888\ttotal: 3.27s\tremaining: 6.57s\n",
            "166:\tlearn: 0.3747020\ttotal: 3.29s\tremaining: 6.56s\n",
            "167:\tlearn: 0.3742629\ttotal: 3.31s\tremaining: 6.54s\n",
            "168:\tlearn: 0.3739433\ttotal: 3.33s\tremaining: 6.52s\n",
            "169:\tlearn: 0.3737149\ttotal: 3.35s\tremaining: 6.5s\n",
            "170:\tlearn: 0.3733410\ttotal: 3.37s\tremaining: 6.48s\n",
            "171:\tlearn: 0.3731051\ttotal: 3.39s\tremaining: 6.46s\n",
            "172:\tlearn: 0.3727550\ttotal: 3.41s\tremaining: 6.44s\n",
            "173:\tlearn: 0.3725137\ttotal: 3.43s\tremaining: 6.42s\n",
            "174:\tlearn: 0.3722022\ttotal: 3.45s\tremaining: 6.4s\n",
            "175:\tlearn: 0.3720176\ttotal: 3.47s\tremaining: 6.39s\n",
            "176:\tlearn: 0.3718246\ttotal: 3.49s\tremaining: 6.37s\n",
            "177:\tlearn: 0.3714676\ttotal: 3.51s\tremaining: 6.35s\n",
            "178:\tlearn: 0.3711290\ttotal: 3.53s\tremaining: 6.33s\n",
            "179:\tlearn: 0.3708790\ttotal: 3.55s\tremaining: 6.31s\n",
            "180:\tlearn: 0.3706329\ttotal: 3.57s\tremaining: 6.29s\n",
            "181:\tlearn: 0.3702682\ttotal: 3.59s\tremaining: 6.28s\n",
            "182:\tlearn: 0.3700589\ttotal: 3.61s\tremaining: 6.26s\n",
            "183:\tlearn: 0.3696355\ttotal: 3.63s\tremaining: 6.24s\n",
            "184:\tlearn: 0.3692501\ttotal: 3.65s\tremaining: 6.22s\n",
            "185:\tlearn: 0.3688671\ttotal: 3.67s\tremaining: 6.2s\n",
            "186:\tlearn: 0.3684627\ttotal: 3.7s\tremaining: 6.19s\n",
            "187:\tlearn: 0.3682344\ttotal: 3.71s\tremaining: 6.17s\n",
            "188:\tlearn: 0.3679163\ttotal: 3.73s\tremaining: 6.14s\n",
            "189:\tlearn: 0.3676717\ttotal: 3.75s\tremaining: 6.13s\n",
            "190:\tlearn: 0.3671156\ttotal: 3.77s\tremaining: 6.11s\n",
            "191:\tlearn: 0.3668709\ttotal: 3.8s\tremaining: 6.09s\n",
            "192:\tlearn: 0.3664346\ttotal: 3.82s\tremaining: 6.07s\n",
            "193:\tlearn: 0.3661103\ttotal: 3.83s\tremaining: 6.05s\n",
            "194:\tlearn: 0.3656460\ttotal: 3.85s\tremaining: 6.03s\n",
            "195:\tlearn: 0.3653049\ttotal: 3.88s\tremaining: 6.01s\n",
            "196:\tlearn: 0.3649368\ttotal: 3.9s\tremaining: 5.99s\n",
            "197:\tlearn: 0.3646049\ttotal: 3.91s\tremaining: 5.97s\n",
            "198:\tlearn: 0.3642719\ttotal: 3.94s\tremaining: 5.95s\n",
            "199:\tlearn: 0.3639264\ttotal: 3.95s\tremaining: 5.93s\n",
            "200:\tlearn: 0.3637284\ttotal: 3.97s\tremaining: 5.91s\n",
            "201:\tlearn: 0.3634596\ttotal: 4s\tremaining: 5.9s\n",
            "202:\tlearn: 0.3632443\ttotal: 4.02s\tremaining: 5.88s\n",
            "203:\tlearn: 0.3629218\ttotal: 4.04s\tremaining: 5.86s\n",
            "204:\tlearn: 0.3626668\ttotal: 4.06s\tremaining: 5.84s\n",
            "205:\tlearn: 0.3623577\ttotal: 4.08s\tremaining: 5.83s\n",
            "206:\tlearn: 0.3619965\ttotal: 4.11s\tremaining: 5.81s\n",
            "207:\tlearn: 0.3616714\ttotal: 4.13s\tremaining: 5.8s\n",
            "208:\tlearn: 0.3614526\ttotal: 4.15s\tremaining: 5.78s\n",
            "209:\tlearn: 0.3612775\ttotal: 4.17s\tremaining: 5.76s\n",
            "210:\tlearn: 0.3610693\ttotal: 4.19s\tremaining: 5.74s\n",
            "211:\tlearn: 0.3607040\ttotal: 4.21s\tremaining: 5.72s\n",
            "212:\tlearn: 0.3604514\ttotal: 4.23s\tremaining: 5.7s\n",
            "213:\tlearn: 0.3602254\ttotal: 4.25s\tremaining: 5.68s\n",
            "214:\tlearn: 0.3598039\ttotal: 4.27s\tremaining: 5.66s\n",
            "215:\tlearn: 0.3595671\ttotal: 4.29s\tremaining: 5.64s\n",
            "216:\tlearn: 0.3591424\ttotal: 4.31s\tremaining: 5.62s\n",
            "217:\tlearn: 0.3588792\ttotal: 4.33s\tremaining: 5.6s\n",
            "218:\tlearn: 0.3586823\ttotal: 4.35s\tremaining: 5.58s\n",
            "219:\tlearn: 0.3584064\ttotal: 4.37s\tremaining: 5.57s\n",
            "220:\tlearn: 0.3582665\ttotal: 4.39s\tremaining: 5.55s\n",
            "221:\tlearn: 0.3579457\ttotal: 4.42s\tremaining: 5.53s\n",
            "222:\tlearn: 0.3577246\ttotal: 4.44s\tremaining: 5.51s\n",
            "223:\tlearn: 0.3575451\ttotal: 4.46s\tremaining: 5.5s\n",
            "224:\tlearn: 0.3573066\ttotal: 4.48s\tremaining: 5.48s\n",
            "225:\tlearn: 0.3570354\ttotal: 4.5s\tremaining: 5.46s\n",
            "226:\tlearn: 0.3568141\ttotal: 4.52s\tremaining: 5.44s\n",
            "227:\tlearn: 0.3567050\ttotal: 4.54s\tremaining: 5.42s\n",
            "228:\tlearn: 0.3564764\ttotal: 4.56s\tremaining: 5.4s\n",
            "229:\tlearn: 0.3563177\ttotal: 4.58s\tremaining: 5.38s\n",
            "230:\tlearn: 0.3561595\ttotal: 4.6s\tremaining: 5.36s\n",
            "231:\tlearn: 0.3556370\ttotal: 4.63s\tremaining: 5.35s\n",
            "232:\tlearn: 0.3554018\ttotal: 4.65s\tremaining: 5.33s\n",
            "233:\tlearn: 0.3552612\ttotal: 4.67s\tremaining: 5.31s\n",
            "234:\tlearn: 0.3550693\ttotal: 4.69s\tremaining: 5.29s\n",
            "235:\tlearn: 0.3547369\ttotal: 4.71s\tremaining: 5.27s\n",
            "236:\tlearn: 0.3545491\ttotal: 4.73s\tremaining: 5.25s\n",
            "237:\tlearn: 0.3542440\ttotal: 4.75s\tremaining: 5.23s\n",
            "238:\tlearn: 0.3539816\ttotal: 4.77s\tremaining: 5.21s\n",
            "239:\tlearn: 0.3538081\ttotal: 4.79s\tremaining: 5.19s\n",
            "240:\tlearn: 0.3534704\ttotal: 4.81s\tremaining: 5.17s\n",
            "241:\tlearn: 0.3532897\ttotal: 4.83s\tremaining: 5.15s\n",
            "242:\tlearn: 0.3530428\ttotal: 4.85s\tremaining: 5.13s\n",
            "243:\tlearn: 0.3528416\ttotal: 4.87s\tremaining: 5.11s\n",
            "244:\tlearn: 0.3525404\ttotal: 4.89s\tremaining: 5.09s\n",
            "245:\tlearn: 0.3522761\ttotal: 4.92s\tremaining: 5.08s\n",
            "246:\tlearn: 0.3521055\ttotal: 4.94s\tremaining: 5.06s\n",
            "247:\tlearn: 0.3518254\ttotal: 4.96s\tremaining: 5.04s\n",
            "248:\tlearn: 0.3515119\ttotal: 4.97s\tremaining: 5.01s\n",
            "249:\tlearn: 0.3513324\ttotal: 5s\tremaining: 5s\n",
            "250:\tlearn: 0.3511347\ttotal: 5.02s\tremaining: 4.98s\n",
            "251:\tlearn: 0.3510055\ttotal: 5.04s\tremaining: 4.96s\n",
            "252:\tlearn: 0.3507228\ttotal: 5.06s\tremaining: 4.94s\n",
            "253:\tlearn: 0.3505581\ttotal: 5.08s\tremaining: 4.92s\n",
            "254:\tlearn: 0.3503407\ttotal: 5.1s\tremaining: 4.9s\n",
            "255:\tlearn: 0.3501962\ttotal: 5.13s\tremaining: 4.89s\n",
            "256:\tlearn: 0.3497296\ttotal: 5.15s\tremaining: 4.87s\n",
            "257:\tlearn: 0.3495619\ttotal: 5.17s\tremaining: 4.85s\n",
            "258:\tlearn: 0.3493106\ttotal: 5.19s\tremaining: 4.83s\n",
            "259:\tlearn: 0.3491261\ttotal: 5.21s\tremaining: 4.81s\n",
            "260:\tlearn: 0.3488932\ttotal: 5.23s\tremaining: 4.79s\n",
            "261:\tlearn: 0.3487152\ttotal: 5.26s\tremaining: 4.78s\n",
            "262:\tlearn: 0.3485134\ttotal: 5.28s\tremaining: 4.76s\n",
            "263:\tlearn: 0.3482883\ttotal: 5.3s\tremaining: 4.74s\n",
            "264:\tlearn: 0.3481391\ttotal: 5.32s\tremaining: 4.72s\n",
            "265:\tlearn: 0.3478719\ttotal: 5.34s\tremaining: 4.7s\n",
            "266:\tlearn: 0.3475459\ttotal: 5.36s\tremaining: 4.68s\n",
            "267:\tlearn: 0.3474361\ttotal: 5.38s\tremaining: 4.66s\n",
            "268:\tlearn: 0.3471991\ttotal: 5.4s\tremaining: 4.64s\n",
            "269:\tlearn: 0.3468818\ttotal: 5.42s\tremaining: 4.62s\n",
            "270:\tlearn: 0.3467201\ttotal: 5.44s\tremaining: 4.6s\n",
            "271:\tlearn: 0.3465505\ttotal: 5.47s\tremaining: 4.59s\n",
            "272:\tlearn: 0.3463333\ttotal: 5.49s\tremaining: 4.57s\n",
            "273:\tlearn: 0.3461569\ttotal: 5.51s\tremaining: 4.55s\n",
            "274:\tlearn: 0.3460047\ttotal: 5.53s\tremaining: 4.53s\n",
            "275:\tlearn: 0.3458873\ttotal: 5.55s\tremaining: 4.5s\n",
            "276:\tlearn: 0.3457725\ttotal: 5.57s\tremaining: 4.49s\n",
            "277:\tlearn: 0.3455041\ttotal: 5.59s\tremaining: 4.46s\n",
            "278:\tlearn: 0.3453593\ttotal: 5.61s\tremaining: 4.45s\n",
            "279:\tlearn: 0.3452654\ttotal: 5.63s\tremaining: 4.42s\n",
            "280:\tlearn: 0.3451464\ttotal: 5.65s\tremaining: 4.41s\n",
            "281:\tlearn: 0.3449104\ttotal: 5.68s\tremaining: 4.39s\n",
            "282:\tlearn: 0.3447437\ttotal: 5.7s\tremaining: 4.37s\n",
            "283:\tlearn: 0.3445822\ttotal: 5.72s\tremaining: 4.35s\n",
            "284:\tlearn: 0.3444222\ttotal: 5.74s\tremaining: 4.33s\n",
            "285:\tlearn: 0.3441543\ttotal: 5.76s\tremaining: 4.31s\n",
            "286:\tlearn: 0.3440546\ttotal: 5.78s\tremaining: 4.29s\n",
            "287:\tlearn: 0.3439088\ttotal: 5.8s\tremaining: 4.27s\n",
            "288:\tlearn: 0.3437590\ttotal: 5.82s\tremaining: 4.25s\n",
            "289:\tlearn: 0.3436442\ttotal: 5.84s\tremaining: 4.23s\n",
            "290:\tlearn: 0.3435405\ttotal: 5.86s\tremaining: 4.21s\n",
            "291:\tlearn: 0.3433571\ttotal: 5.89s\tremaining: 4.19s\n",
            "292:\tlearn: 0.3431487\ttotal: 5.91s\tremaining: 4.17s\n",
            "293:\tlearn: 0.3430439\ttotal: 5.93s\tremaining: 4.16s\n",
            "294:\tlearn: 0.3428649\ttotal: 5.95s\tremaining: 4.13s\n",
            "295:\tlearn: 0.3426719\ttotal: 5.97s\tremaining: 4.12s\n",
            "296:\tlearn: 0.3425401\ttotal: 5.99s\tremaining: 4.09s\n",
            "297:\tlearn: 0.3423087\ttotal: 6.01s\tremaining: 4.08s\n",
            "298:\tlearn: 0.3420619\ttotal: 6.04s\tremaining: 4.06s\n",
            "299:\tlearn: 0.3419508\ttotal: 6.06s\tremaining: 4.04s\n",
            "300:\tlearn: 0.3416604\ttotal: 6.08s\tremaining: 4.02s\n",
            "301:\tlearn: 0.3415072\ttotal: 6.1s\tremaining: 4s\n",
            "302:\tlearn: 0.3413830\ttotal: 6.12s\tremaining: 3.98s\n",
            "303:\tlearn: 0.3412773\ttotal: 6.16s\tremaining: 3.97s\n",
            "304:\tlearn: 0.3409432\ttotal: 6.18s\tremaining: 3.95s\n",
            "305:\tlearn: 0.3407255\ttotal: 6.2s\tremaining: 3.93s\n",
            "306:\tlearn: 0.3406010\ttotal: 6.22s\tremaining: 3.91s\n",
            "307:\tlearn: 0.3403546\ttotal: 6.24s\tremaining: 3.89s\n",
            "308:\tlearn: 0.3402205\ttotal: 6.26s\tremaining: 3.87s\n",
            "309:\tlearn: 0.3400865\ttotal: 6.28s\tremaining: 3.85s\n",
            "310:\tlearn: 0.3399636\ttotal: 6.3s\tremaining: 3.83s\n",
            "311:\tlearn: 0.3398650\ttotal: 6.32s\tremaining: 3.81s\n",
            "312:\tlearn: 0.3396565\ttotal: 6.35s\tremaining: 3.79s\n",
            "313:\tlearn: 0.3395446\ttotal: 6.37s\tremaining: 3.77s\n",
            "314:\tlearn: 0.3394537\ttotal: 6.39s\tremaining: 3.75s\n",
            "315:\tlearn: 0.3391750\ttotal: 6.41s\tremaining: 3.73s\n",
            "316:\tlearn: 0.3388951\ttotal: 6.43s\tremaining: 3.71s\n",
            "317:\tlearn: 0.3387408\ttotal: 6.45s\tremaining: 3.69s\n",
            "318:\tlearn: 0.3385294\ttotal: 6.47s\tremaining: 3.67s\n",
            "319:\tlearn: 0.3383005\ttotal: 6.49s\tremaining: 3.65s\n",
            "320:\tlearn: 0.3381646\ttotal: 6.52s\tremaining: 3.63s\n",
            "321:\tlearn: 0.3380164\ttotal: 6.54s\tremaining: 3.62s\n",
            "322:\tlearn: 0.3379043\ttotal: 6.56s\tremaining: 3.6s\n",
            "323:\tlearn: 0.3378253\ttotal: 6.58s\tremaining: 3.58s\n",
            "324:\tlearn: 0.3377453\ttotal: 6.6s\tremaining: 3.56s\n",
            "325:\tlearn: 0.3375769\ttotal: 6.62s\tremaining: 3.54s\n",
            "326:\tlearn: 0.3373480\ttotal: 6.64s\tremaining: 3.52s\n",
            "327:\tlearn: 0.3371860\ttotal: 6.66s\tremaining: 3.49s\n",
            "328:\tlearn: 0.3370518\ttotal: 6.68s\tremaining: 3.47s\n",
            "329:\tlearn: 0.3368333\ttotal: 6.7s\tremaining: 3.45s\n",
            "330:\tlearn: 0.3367837\ttotal: 6.72s\tremaining: 3.43s\n",
            "331:\tlearn: 0.3366914\ttotal: 6.75s\tremaining: 3.42s\n",
            "332:\tlearn: 0.3365112\ttotal: 6.77s\tremaining: 3.4s\n",
            "333:\tlearn: 0.3363172\ttotal: 6.79s\tremaining: 3.38s\n",
            "334:\tlearn: 0.3361131\ttotal: 6.81s\tremaining: 3.35s\n",
            "335:\tlearn: 0.3359716\ttotal: 6.84s\tremaining: 3.34s\n",
            "336:\tlearn: 0.3358394\ttotal: 6.86s\tremaining: 3.32s\n",
            "337:\tlearn: 0.3357229\ttotal: 6.88s\tremaining: 3.3s\n",
            "338:\tlearn: 0.3355317\ttotal: 6.9s\tremaining: 3.28s\n",
            "339:\tlearn: 0.3352502\ttotal: 6.92s\tremaining: 3.26s\n",
            "340:\tlearn: 0.3349749\ttotal: 6.94s\tremaining: 3.24s\n",
            "341:\tlearn: 0.3348528\ttotal: 6.96s\tremaining: 3.22s\n",
            "342:\tlearn: 0.3347013\ttotal: 6.99s\tremaining: 3.2s\n",
            "343:\tlearn: 0.3344803\ttotal: 7.01s\tremaining: 3.18s\n",
            "344:\tlearn: 0.3343368\ttotal: 7.03s\tremaining: 3.16s\n",
            "345:\tlearn: 0.3341699\ttotal: 7.05s\tremaining: 3.14s\n",
            "346:\tlearn: 0.3340379\ttotal: 7.07s\tremaining: 3.12s\n",
            "347:\tlearn: 0.3337289\ttotal: 7.09s\tremaining: 3.1s\n",
            "348:\tlearn: 0.3335669\ttotal: 7.11s\tremaining: 3.08s\n",
            "349:\tlearn: 0.3333733\ttotal: 7.13s\tremaining: 3.06s\n",
            "350:\tlearn: 0.3331853\ttotal: 7.17s\tremaining: 3.04s\n",
            "351:\tlearn: 0.3329989\ttotal: 7.19s\tremaining: 3.02s\n",
            "352:\tlearn: 0.3328399\ttotal: 7.21s\tremaining: 3s\n",
            "353:\tlearn: 0.3327628\ttotal: 7.23s\tremaining: 2.98s\n",
            "354:\tlearn: 0.3327046\ttotal: 7.25s\tremaining: 2.96s\n",
            "355:\tlearn: 0.3326029\ttotal: 7.27s\tremaining: 2.94s\n",
            "356:\tlearn: 0.3324364\ttotal: 7.29s\tremaining: 2.92s\n",
            "357:\tlearn: 0.3322743\ttotal: 7.32s\tremaining: 2.9s\n",
            "358:\tlearn: 0.3321437\ttotal: 7.34s\tremaining: 2.88s\n",
            "359:\tlearn: 0.3319223\ttotal: 7.36s\tremaining: 2.86s\n",
            "360:\tlearn: 0.3317923\ttotal: 7.39s\tremaining: 2.84s\n",
            "361:\tlearn: 0.3316475\ttotal: 7.41s\tremaining: 2.82s\n",
            "362:\tlearn: 0.3315252\ttotal: 7.43s\tremaining: 2.81s\n",
            "363:\tlearn: 0.3314056\ttotal: 7.46s\tremaining: 2.79s\n",
            "364:\tlearn: 0.3311335\ttotal: 7.48s\tremaining: 2.77s\n",
            "365:\tlearn: 0.3310057\ttotal: 7.5s\tremaining: 2.75s\n",
            "366:\tlearn: 0.3307540\ttotal: 7.52s\tremaining: 2.73s\n",
            "367:\tlearn: 0.3306381\ttotal: 7.54s\tremaining: 2.71s\n",
            "368:\tlearn: 0.3304209\ttotal: 7.56s\tremaining: 2.68s\n",
            "369:\tlearn: 0.3303083\ttotal: 7.58s\tremaining: 2.66s\n",
            "370:\tlearn: 0.3300129\ttotal: 7.61s\tremaining: 2.65s\n",
            "371:\tlearn: 0.3299594\ttotal: 7.63s\tremaining: 2.63s\n",
            "372:\tlearn: 0.3298280\ttotal: 7.65s\tremaining: 2.6s\n",
            "373:\tlearn: 0.3294962\ttotal: 7.67s\tremaining: 2.58s\n",
            "374:\tlearn: 0.3293759\ttotal: 7.69s\tremaining: 2.56s\n",
            "375:\tlearn: 0.3292571\ttotal: 7.71s\tremaining: 2.54s\n",
            "376:\tlearn: 0.3290581\ttotal: 7.74s\tremaining: 2.52s\n",
            "377:\tlearn: 0.3289583\ttotal: 7.76s\tremaining: 2.5s\n",
            "378:\tlearn: 0.3289009\ttotal: 7.78s\tremaining: 2.48s\n",
            "379:\tlearn: 0.3286414\ttotal: 7.8s\tremaining: 2.46s\n",
            "380:\tlearn: 0.3285238\ttotal: 7.82s\tremaining: 2.44s\n",
            "381:\tlearn: 0.3284156\ttotal: 7.84s\tremaining: 2.42s\n",
            "382:\tlearn: 0.3282609\ttotal: 7.87s\tremaining: 2.4s\n",
            "383:\tlearn: 0.3281213\ttotal: 7.89s\tremaining: 2.38s\n",
            "384:\tlearn: 0.3279850\ttotal: 7.91s\tremaining: 2.36s\n",
            "385:\tlearn: 0.3278017\ttotal: 7.93s\tremaining: 2.34s\n",
            "386:\tlearn: 0.3277076\ttotal: 7.95s\tremaining: 2.32s\n",
            "387:\tlearn: 0.3275758\ttotal: 7.97s\tremaining: 2.3s\n",
            "388:\tlearn: 0.3273380\ttotal: 7.99s\tremaining: 2.28s\n",
            "389:\tlearn: 0.3271309\ttotal: 8.01s\tremaining: 2.26s\n",
            "390:\tlearn: 0.3269867\ttotal: 8.04s\tremaining: 2.24s\n",
            "391:\tlearn: 0.3268838\ttotal: 8.06s\tremaining: 2.22s\n",
            "392:\tlearn: 0.3267924\ttotal: 8.09s\tremaining: 2.2s\n",
            "393:\tlearn: 0.3266338\ttotal: 8.11s\tremaining: 2.18s\n",
            "394:\tlearn: 0.3265055\ttotal: 8.13s\tremaining: 2.16s\n",
            "395:\tlearn: 0.3262758\ttotal: 8.16s\tremaining: 2.14s\n",
            "396:\tlearn: 0.3261148\ttotal: 8.18s\tremaining: 2.12s\n",
            "397:\tlearn: 0.3259975\ttotal: 8.21s\tremaining: 2.1s\n",
            "398:\tlearn: 0.3258844\ttotal: 8.22s\tremaining: 2.08s\n",
            "399:\tlearn: 0.3257057\ttotal: 8.25s\tremaining: 2.06s\n",
            "400:\tlearn: 0.3255877\ttotal: 8.27s\tremaining: 2.04s\n",
            "401:\tlearn: 0.3254669\ttotal: 8.29s\tremaining: 2.02s\n",
            "402:\tlearn: 0.3253084\ttotal: 8.31s\tremaining: 2s\n",
            "403:\tlearn: 0.3251700\ttotal: 8.34s\tremaining: 1.98s\n",
            "404:\tlearn: 0.3249574\ttotal: 8.36s\tremaining: 1.96s\n",
            "405:\tlearn: 0.3248164\ttotal: 8.38s\tremaining: 1.94s\n",
            "406:\tlearn: 0.3246996\ttotal: 8.4s\tremaining: 1.92s\n",
            "407:\tlearn: 0.3245696\ttotal: 8.43s\tremaining: 1.9s\n",
            "408:\tlearn: 0.3244069\ttotal: 8.45s\tremaining: 1.88s\n",
            "409:\tlearn: 0.3242007\ttotal: 8.47s\tremaining: 1.86s\n",
            "410:\tlearn: 0.3240861\ttotal: 8.49s\tremaining: 1.84s\n",
            "411:\tlearn: 0.3240057\ttotal: 8.52s\tremaining: 1.82s\n",
            "412:\tlearn: 0.3239162\ttotal: 8.54s\tremaining: 1.8s\n",
            "413:\tlearn: 0.3237838\ttotal: 8.56s\tremaining: 1.78s\n",
            "414:\tlearn: 0.3236395\ttotal: 8.58s\tremaining: 1.76s\n",
            "415:\tlearn: 0.3235243\ttotal: 8.6s\tremaining: 1.74s\n",
            "416:\tlearn: 0.3232296\ttotal: 8.62s\tremaining: 1.72s\n",
            "417:\tlearn: 0.3230682\ttotal: 8.64s\tremaining: 1.7s\n",
            "418:\tlearn: 0.3228854\ttotal: 8.67s\tremaining: 1.68s\n",
            "419:\tlearn: 0.3227106\ttotal: 8.69s\tremaining: 1.66s\n",
            "420:\tlearn: 0.3225510\ttotal: 8.71s\tremaining: 1.63s\n",
            "421:\tlearn: 0.3224382\ttotal: 8.73s\tremaining: 1.61s\n",
            "422:\tlearn: 0.3222609\ttotal: 8.75s\tremaining: 1.59s\n",
            "423:\tlearn: 0.3218513\ttotal: 8.77s\tremaining: 1.57s\n",
            "424:\tlearn: 0.3216954\ttotal: 8.79s\tremaining: 1.55s\n",
            "425:\tlearn: 0.3215619\ttotal: 8.81s\tremaining: 1.53s\n",
            "426:\tlearn: 0.3214447\ttotal: 8.83s\tremaining: 1.51s\n",
            "427:\tlearn: 0.3213880\ttotal: 8.85s\tremaining: 1.49s\n",
            "428:\tlearn: 0.3212302\ttotal: 8.88s\tremaining: 1.47s\n",
            "429:\tlearn: 0.3211587\ttotal: 8.9s\tremaining: 1.45s\n",
            "430:\tlearn: 0.3210402\ttotal: 8.92s\tremaining: 1.43s\n",
            "431:\tlearn: 0.3208449\ttotal: 8.95s\tremaining: 1.41s\n",
            "432:\tlearn: 0.3207527\ttotal: 8.97s\tremaining: 1.39s\n",
            "433:\tlearn: 0.3206053\ttotal: 8.99s\tremaining: 1.37s\n",
            "434:\tlearn: 0.3204873\ttotal: 9.02s\tremaining: 1.35s\n",
            "435:\tlearn: 0.3203736\ttotal: 9.04s\tremaining: 1.33s\n",
            "436:\tlearn: 0.3202837\ttotal: 9.06s\tremaining: 1.31s\n",
            "437:\tlearn: 0.3202192\ttotal: 9.09s\tremaining: 1.29s\n",
            "438:\tlearn: 0.3201741\ttotal: 9.11s\tremaining: 1.26s\n",
            "439:\tlearn: 0.3199807\ttotal: 9.13s\tremaining: 1.24s\n",
            "440:\tlearn: 0.3198841\ttotal: 9.15s\tremaining: 1.22s\n",
            "441:\tlearn: 0.3197916\ttotal: 9.17s\tremaining: 1.2s\n",
            "442:\tlearn: 0.3197200\ttotal: 9.2s\tremaining: 1.18s\n",
            "443:\tlearn: 0.3196121\ttotal: 9.22s\tremaining: 1.16s\n",
            "444:\tlearn: 0.3194174\ttotal: 9.24s\tremaining: 1.14s\n",
            "445:\tlearn: 0.3192678\ttotal: 9.27s\tremaining: 1.12s\n",
            "446:\tlearn: 0.3191362\ttotal: 9.29s\tremaining: 1.1s\n",
            "447:\tlearn: 0.3190643\ttotal: 9.31s\tremaining: 1.08s\n",
            "448:\tlearn: 0.3188817\ttotal: 9.33s\tremaining: 1.06s\n",
            "449:\tlearn: 0.3187932\ttotal: 9.36s\tremaining: 1.04s\n",
            "450:\tlearn: 0.3186765\ttotal: 9.38s\tremaining: 1.02s\n",
            "451:\tlearn: 0.3185860\ttotal: 9.4s\tremaining: 998ms\n",
            "452:\tlearn: 0.3184272\ttotal: 9.42s\tremaining: 978ms\n",
            "453:\tlearn: 0.3183031\ttotal: 9.45s\tremaining: 957ms\n",
            "454:\tlearn: 0.3181696\ttotal: 9.47s\tremaining: 936ms\n",
            "455:\tlearn: 0.3181145\ttotal: 9.48s\tremaining: 915ms\n",
            "456:\tlearn: 0.3179049\ttotal: 9.51s\tremaining: 895ms\n",
            "457:\tlearn: 0.3177315\ttotal: 9.54s\tremaining: 874ms\n",
            "458:\tlearn: 0.3174556\ttotal: 9.56s\tremaining: 854ms\n",
            "459:\tlearn: 0.3173515\ttotal: 9.58s\tremaining: 833ms\n",
            "460:\tlearn: 0.3171754\ttotal: 9.6s\tremaining: 812ms\n",
            "461:\tlearn: 0.3170258\ttotal: 9.62s\tremaining: 791ms\n",
            "462:\tlearn: 0.3169660\ttotal: 9.64s\tremaining: 770ms\n",
            "463:\tlearn: 0.3168686\ttotal: 9.66s\tremaining: 750ms\n",
            "464:\tlearn: 0.3167040\ttotal: 9.68s\tremaining: 729ms\n",
            "465:\tlearn: 0.3166288\ttotal: 9.7s\tremaining: 708ms\n",
            "466:\tlearn: 0.3164966\ttotal: 9.73s\tremaining: 688ms\n",
            "467:\tlearn: 0.3164365\ttotal: 9.75s\tremaining: 667ms\n",
            "468:\tlearn: 0.3162899\ttotal: 9.78s\tremaining: 646ms\n",
            "469:\tlearn: 0.3160911\ttotal: 9.8s\tremaining: 625ms\n",
            "470:\tlearn: 0.3159321\ttotal: 9.82s\tremaining: 605ms\n",
            "471:\tlearn: 0.3157402\ttotal: 9.84s\tremaining: 584ms\n",
            "472:\tlearn: 0.3155690\ttotal: 9.86s\tremaining: 563ms\n",
            "473:\tlearn: 0.3154780\ttotal: 9.88s\tremaining: 542ms\n",
            "474:\tlearn: 0.3153547\ttotal: 9.91s\tremaining: 521ms\n",
            "475:\tlearn: 0.3152045\ttotal: 9.93s\tremaining: 501ms\n",
            "476:\tlearn: 0.3150909\ttotal: 9.95s\tremaining: 480ms\n",
            "477:\tlearn: 0.3150026\ttotal: 9.97s\tremaining: 459ms\n",
            "478:\tlearn: 0.3149100\ttotal: 9.99s\tremaining: 438ms\n",
            "479:\tlearn: 0.3147958\ttotal: 10s\tremaining: 417ms\n",
            "480:\tlearn: 0.3146807\ttotal: 10s\tremaining: 397ms\n",
            "481:\tlearn: 0.3145766\ttotal: 10.1s\tremaining: 376ms\n",
            "482:\tlearn: 0.3143589\ttotal: 10.1s\tremaining: 355ms\n",
            "483:\tlearn: 0.3142788\ttotal: 10.1s\tremaining: 334ms\n",
            "484:\tlearn: 0.3142287\ttotal: 10.1s\tremaining: 313ms\n",
            "485:\tlearn: 0.3141261\ttotal: 10.2s\tremaining: 293ms\n",
            "486:\tlearn: 0.3139966\ttotal: 10.2s\tremaining: 272ms\n",
            "487:\tlearn: 0.3138464\ttotal: 10.2s\tremaining: 251ms\n",
            "488:\tlearn: 0.3137656\ttotal: 10.2s\tremaining: 230ms\n",
            "489:\tlearn: 0.3137312\ttotal: 10.3s\tremaining: 209ms\n",
            "490:\tlearn: 0.3136052\ttotal: 10.3s\tremaining: 188ms\n",
            "491:\tlearn: 0.3135139\ttotal: 10.3s\tremaining: 167ms\n",
            "492:\tlearn: 0.3134641\ttotal: 10.3s\tremaining: 146ms\n",
            "493:\tlearn: 0.3132419\ttotal: 10.3s\tremaining: 126ms\n",
            "494:\tlearn: 0.3131615\ttotal: 10.4s\tremaining: 105ms\n",
            "495:\tlearn: 0.3130507\ttotal: 10.4s\tremaining: 83.7ms\n",
            "496:\tlearn: 0.3128315\ttotal: 10.4s\tremaining: 62.8ms\n",
            "497:\tlearn: 0.3126709\ttotal: 10.4s\tremaining: 41.9ms\n",
            "498:\tlearn: 0.3125902\ttotal: 10.4s\tremaining: 20.9ms\n",
            "499:\tlearn: 0.3124642\ttotal: 10.5s\tremaining: 0us\n",
            "{'boosting_type': 'Plain', 'bootstrap_type': 'Bayesian', 'cat_features': [1, 2, 3, 4, 5, 6, 7, 8, 9, 10, 11, 12, 13, 14, 15, 16, 17, 18, 19, 20, 21, 22, 23, 24, 25, 26], 'class_weights': {-1: 3.665358566388211, 3: 1.3218544931253031, 4: 1.0}, 'depth': 8, 'grow_policy': 'Lossguide', 'iterations': 500, 'l2_leaf_reg': 5.93, 'leaf_estimation_backtracking': 'Armijo', 'loss_function': 'MultiClass', 'random_state': 42, 'task_type': 'GPU'}\n",
            "0.7910165264334063\n"
          ]
        }
      ]
    },
    {
      "cell_type": "code",
      "source": [
        "boost_CV.cv_results_['std_test_score'][0]"
      ],
      "metadata": {
        "colab": {
          "base_uri": "https://localhost:8080/"
        },
        "id": "N2cDPgHPvLB4",
        "outputId": "0f81c92a-f108-46f0-a1ad-ec273f23a206"
      },
      "execution_count": 55,
      "outputs": [
        {
          "output_type": "execute_result",
          "data": {
            "text/plain": [
              "0.015575874822663167"
            ]
          },
          "metadata": {},
          "execution_count": 55
        }
      ]
    },
    {
      "cell_type": "markdown",
      "source": [
        "# Cоздание файла с ответом"
      ],
      "metadata": {
        "id": "yjJp2a4dFmNJ"
      }
    },
    {
      "cell_type": "code",
      "source": [
        "df_test = pd.read_csv(\"/content/test_dataset_Altai.csv\")\n",
        "df_submission = pd.read_csv(\"/content/sample_submission.csv\")"
      ],
      "metadata": {
        "id": "-1HabuSpBbYS"
      },
      "execution_count": 56,
      "outputs": []
    },
    {
      "cell_type": "code",
      "source": [
        "for col in df_test.columns:\n",
        "    if df_test[col].dtype == 'O':\n",
        "        df_test[col] = df_test[col].fillna(df_test[col].mode()[0])\n",
        "        df_test[col] = df_test[col].apply(str.lower)\n",
        "    else:\n",
        "        df_test[col] = df_test[col].fillna(-1)"
      ],
      "metadata": {
        "id": "Cg87esZ-j6lD"
      },
      "execution_count": 57,
      "outputs": []
    },
    {
      "cell_type": "markdown",
      "source": [
        "Провем те же манипуляции с данными что и на обучении"
      ],
      "metadata": {
        "id": "XIfjIJ7cF_gS"
      }
    },
    {
      "cell_type": "code",
      "source": [
        "for i in range(5):\n",
        "    df_test[f'Код_группы_unigramm_{i}'] = df_test['Код_группы'].apply(lambda x: str(x)[i])\n",
        "\n",
        "for i in range(4):\n",
        "    df_test[f'Код_группы_bigramm_{i}'] = df_test['Код_группы'].apply(lambda x: str(x)[i:i + 2])"
      ],
      "metadata": {
        "id": "0I1jddSzBbaK"
      },
      "execution_count": 58,
      "outputs": []
    },
    {
      "cell_type": "code",
      "source": [
        "df_test['Год_рождения'] = df_test['Дата_Рождения'].apply(lambda x: x.split()[0].split('-')[0])\n",
        "df_test['Месяц_рождения'] = df_test['Дата_Рождения'].apply(lambda x: x.split()[0].split('-')[1])\n",
        "df_test['День_рождения'] = df_test['Дата_Рождения'].apply(lambda x: x.split()[0].split('-')[2])\n",
        "df_test = df_test.drop(columns=['Дата_Рождения'])"
      ],
      "metadata": {
        "id": "kMQQX-1JUavj"
      },
      "execution_count": 59,
      "outputs": []
    },
    {
      "cell_type": "code",
      "source": [
        "df_test['Уч_Заведение'] = df_test['Уч_Заведение'].apply(unify_study)"
      ],
      "metadata": {
        "id": "Zi1TNuL6Uash"
      },
      "execution_count": 60,
      "outputs": []
    },
    {
      "cell_type": "code",
      "source": [
        "df_test['Год_Окончания_УЗ'] = df_test['Год_Окончания_УЗ'].apply(lambda x: str(int(x)))"
      ],
      "metadata": {
        "id": "NEuLAQhKUajY"
      },
      "execution_count": 61,
      "outputs": []
    },
    {
      "cell_type": "code",
      "source": [
        "df_test['КодФакультета'] = df_test['КодФакультета'].apply(lambda x: str(int(x)))\n",
        "\n",
        "for i in range(2):\n",
        "    df_test[f'КодФакультета_unigramm_{i}'] = df_test['КодФакультета'].apply(lambda x: x[i])"
      ],
      "metadata": {
        "id": "pC3Nr0FuUaWx"
      },
      "execution_count": 62,
      "outputs": []
    },
    {
      "cell_type": "code",
      "source": [
        "df_test['СрБаллАттестата'] = df_test['СрБаллАттестата'].apply(lambda x: x if x <= 5 or 29 < x <= 100 else ege_median)\n",
        "df_test['СрБаллАттестата'] = df_test['СрБаллАттестата'].apply(lambda x: (x - ege_mean) / ege_std if x > 5 else (x - att_mean) / att_std)"
      ],
      "metadata": {
        "id": "GgLIHiMgzC8o"
      },
      "execution_count": 63,
      "outputs": []
    },
    {
      "cell_type": "code",
      "source": [
        "years_fresh = []\n",
        "years_grad = []\n",
        "years_study = []\n",
        "for birth_year, fresh_year, grad_year in zip(df_test['Год_рождения'], df_test['Год_Поступления'], df_test['Год_Окончания_УЗ']):\n",
        "    birth_year = int(birth_year) if birth_year not in ['other', 'nan'] else -1\n",
        "    fresh_year = int(fresh_year) if fresh_year not in ['other', 'nan'] else -1\n",
        "    grad_year = int(grad_year) if grad_year not in ['other', 'nan'] else -1\n",
        "\n",
        "    if birth_year != -1 and fresh_year != -1:\n",
        "        years_fresh.append(fresh_year - birth_year)\n",
        "    else:\n",
        "        years_fresh.append(-1)\n",
        "\n",
        "    if birth_year != -1 and grad_year != -1:\n",
        "        years_grad.append(grad_year - birth_year)\n",
        "    else:\n",
        "        years_grad.append(-1)\n",
        "\n",
        "    if grad_year != -1 and fresh_year != -1:\n",
        "        years_study.append(fresh_year - grad_year)\n",
        "    else:\n",
        "        years_study.append(-1)\n",
        "\n",
        "df_test['Лет_поступил'] = years_fresh\n",
        "df_test['Лет_закончил'] = years_grad\n",
        "df_test['Лет_ждал'] = years_study\n",
        "df_test['Лет_ждал'] = df_test['Лет_ждал'].apply(lambda x: x if x > 0 else 0)\n",
        "df_test['Лет_закончил'] = df_test['Лет_закончил'].replace(-1, df_test['Лет_закончил'][df_test['Лет_закончил'] > 0].median())\n"
      ],
      "metadata": {
        "id": "2l8PhPxNr6YV"
      },
      "execution_count": 64,
      "outputs": []
    },
    {
      "cell_type": "code",
      "source": [
        "for col in cat_cols:\n",
        "    vc = df_test[col].value_counts()\n",
        "    df_test[col] = df_test[col].apply(str)"
      ],
      "metadata": {
        "id": "Mvz3dWDsUaNR"
      },
      "execution_count": 65,
      "outputs": []
    },
    {
      "cell_type": "code",
      "source": [
        "for i in range(num_cols_len):\n",
        "    df_test[num_cols[i]] = df_test[num_cols[i]].replace(-1, df_test[num_cols[i]][df_test[num_cols[i]] != -1].median())\n",
        "\n",
        "for col in num_cols:\n",
        "    df_test[col] = (df_test[col] - mean_num[col]) / std_num[col]"
      ],
      "metadata": {
        "id": "K6OWZYPZUZnt"
      },
      "execution_count": 66,
      "outputs": []
    },
    {
      "cell_type": "code",
      "source": [
        "test_data = df_test[num_cols + cat_cols]"
      ],
      "metadata": {
        "id": "rDsSqJf3k1Zk"
      },
      "execution_count": 67,
      "outputs": []
    },
    {
      "cell_type": "markdown",
      "source": [
        "#Submit"
      ],
      "metadata": {
        "id": "vPVx52k5CSMa"
      }
    },
    {
      "cell_type": "code",
      "source": [
        "df_test_pred = model.predict(test_data)"
      ],
      "metadata": {
        "id": "0lYg_cpvBbcg"
      },
      "execution_count": 68,
      "outputs": []
    },
    {
      "cell_type": "code",
      "source": [
        "df_submission[\"Статус\"] = df_test_pred\n",
        "df_submission.head(4)"
      ],
      "metadata": {
        "colab": {
          "base_uri": "https://localhost:8080/",
          "height": 175
        },
        "id": "py7AM_IFBbe7",
        "outputId": "c3bd3a88-8657-4f1c-8c07-5e842df02bb3"
      },
      "execution_count": 69,
      "outputs": [
        {
          "output_type": "execute_result",
          "data": {
            "text/plain": [
              "      ID  Статус\n",
              "0  64996       4\n",
              "1  71837       4\n",
              "2  86587       3\n",
              "3  73673      -1"
            ],
            "text/html": [
              "\n",
              "  <div id=\"df-4b977118-62fd-4cba-9d8a-ebbb38f39b3c\">\n",
              "    <div class=\"colab-df-container\">\n",
              "      <div>\n",
              "<style scoped>\n",
              "    .dataframe tbody tr th:only-of-type {\n",
              "        vertical-align: middle;\n",
              "    }\n",
              "\n",
              "    .dataframe tbody tr th {\n",
              "        vertical-align: top;\n",
              "    }\n",
              "\n",
              "    .dataframe thead th {\n",
              "        text-align: right;\n",
              "    }\n",
              "</style>\n",
              "<table border=\"1\" class=\"dataframe\">\n",
              "  <thead>\n",
              "    <tr style=\"text-align: right;\">\n",
              "      <th></th>\n",
              "      <th>ID</th>\n",
              "      <th>Статус</th>\n",
              "    </tr>\n",
              "  </thead>\n",
              "  <tbody>\n",
              "    <tr>\n",
              "      <th>0</th>\n",
              "      <td>64996</td>\n",
              "      <td>4</td>\n",
              "    </tr>\n",
              "    <tr>\n",
              "      <th>1</th>\n",
              "      <td>71837</td>\n",
              "      <td>4</td>\n",
              "    </tr>\n",
              "    <tr>\n",
              "      <th>2</th>\n",
              "      <td>86587</td>\n",
              "      <td>3</td>\n",
              "    </tr>\n",
              "    <tr>\n",
              "      <th>3</th>\n",
              "      <td>73673</td>\n",
              "      <td>-1</td>\n",
              "    </tr>\n",
              "  </tbody>\n",
              "</table>\n",
              "</div>\n",
              "      <button class=\"colab-df-convert\" onclick=\"convertToInteractive('df-4b977118-62fd-4cba-9d8a-ebbb38f39b3c')\"\n",
              "              title=\"Convert this dataframe to an interactive table.\"\n",
              "              style=\"display:none;\">\n",
              "        \n",
              "  <svg xmlns=\"http://www.w3.org/2000/svg\" height=\"24px\"viewBox=\"0 0 24 24\"\n",
              "       width=\"24px\">\n",
              "    <path d=\"M0 0h24v24H0V0z\" fill=\"none\"/>\n",
              "    <path d=\"M18.56 5.44l.94 2.06.94-2.06 2.06-.94-2.06-.94-.94-2.06-.94 2.06-2.06.94zm-11 1L8.5 8.5l.94-2.06 2.06-.94-2.06-.94L8.5 2.5l-.94 2.06-2.06.94zm10 10l.94 2.06.94-2.06 2.06-.94-2.06-.94-.94-2.06-.94 2.06-2.06.94z\"/><path d=\"M17.41 7.96l-1.37-1.37c-.4-.4-.92-.59-1.43-.59-.52 0-1.04.2-1.43.59L10.3 9.45l-7.72 7.72c-.78.78-.78 2.05 0 2.83L4 21.41c.39.39.9.59 1.41.59.51 0 1.02-.2 1.41-.59l7.78-7.78 2.81-2.81c.8-.78.8-2.07 0-2.86zM5.41 20L4 18.59l7.72-7.72 1.47 1.35L5.41 20z\"/>\n",
              "  </svg>\n",
              "      </button>\n",
              "      \n",
              "  <style>\n",
              "    .colab-df-container {\n",
              "      display:flex;\n",
              "      flex-wrap:wrap;\n",
              "      gap: 12px;\n",
              "    }\n",
              "\n",
              "    .colab-df-convert {\n",
              "      background-color: #E8F0FE;\n",
              "      border: none;\n",
              "      border-radius: 50%;\n",
              "      cursor: pointer;\n",
              "      display: none;\n",
              "      fill: #1967D2;\n",
              "      height: 32px;\n",
              "      padding: 0 0 0 0;\n",
              "      width: 32px;\n",
              "    }\n",
              "\n",
              "    .colab-df-convert:hover {\n",
              "      background-color: #E2EBFA;\n",
              "      box-shadow: 0px 1px 2px rgba(60, 64, 67, 0.3), 0px 1px 3px 1px rgba(60, 64, 67, 0.15);\n",
              "      fill: #174EA6;\n",
              "    }\n",
              "\n",
              "    [theme=dark] .colab-df-convert {\n",
              "      background-color: #3B4455;\n",
              "      fill: #D2E3FC;\n",
              "    }\n",
              "\n",
              "    [theme=dark] .colab-df-convert:hover {\n",
              "      background-color: #434B5C;\n",
              "      box-shadow: 0px 1px 3px 1px rgba(0, 0, 0, 0.15);\n",
              "      filter: drop-shadow(0px 1px 2px rgba(0, 0, 0, 0.3));\n",
              "      fill: #FFFFFF;\n",
              "    }\n",
              "  </style>\n",
              "\n",
              "      <script>\n",
              "        const buttonEl =\n",
              "          document.querySelector('#df-4b977118-62fd-4cba-9d8a-ebbb38f39b3c button.colab-df-convert');\n",
              "        buttonEl.style.display =\n",
              "          google.colab.kernel.accessAllowed ? 'block' : 'none';\n",
              "\n",
              "        async function convertToInteractive(key) {\n",
              "          const element = document.querySelector('#df-4b977118-62fd-4cba-9d8a-ebbb38f39b3c');\n",
              "          const dataTable =\n",
              "            await google.colab.kernel.invokeFunction('convertToInteractive',\n",
              "                                                     [key], {});\n",
              "          if (!dataTable) return;\n",
              "\n",
              "          const docLinkHtml = 'Like what you see? Visit the ' +\n",
              "            '<a target=\"_blank\" href=https://colab.research.google.com/notebooks/data_table.ipynb>data table notebook</a>'\n",
              "            + ' to learn more about interactive tables.';\n",
              "          element.innerHTML = '';\n",
              "          dataTable['output_type'] = 'display_data';\n",
              "          await google.colab.output.renderOutput(dataTable, element);\n",
              "          const docLink = document.createElement('div');\n",
              "          docLink.innerHTML = docLinkHtml;\n",
              "          element.appendChild(docLink);\n",
              "        }\n",
              "      </script>\n",
              "    </div>\n",
              "  </div>\n",
              "  "
            ]
          },
          "metadata": {},
          "execution_count": 69
        }
      ]
    },
    {
      "cell_type": "code",
      "source": [
        "df_submission.to_csv(\"/content/submission.csv\", index=False)"
      ],
      "metadata": {
        "id": "hiUyIdnWGgJu"
      },
      "execution_count": 70,
      "outputs": []
    },
    {
      "cell_type": "code",
      "source": [],
      "metadata": {
        "id": "n9yda3CjEIYr"
      },
      "execution_count": 70,
      "outputs": []
    }
  ]
}